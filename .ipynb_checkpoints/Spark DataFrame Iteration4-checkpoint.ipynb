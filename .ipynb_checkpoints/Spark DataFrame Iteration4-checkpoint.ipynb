{
 "cells": [
  {
   "cell_type": "markdown",
   "id": "d841d491",
   "metadata": {},
   "source": [
    "# Iteration4 BDAS"
   ]
  },
  {
   "cell_type": "code",
   "execution_count": 1,
   "id": "c9013178",
   "metadata": {},
   "outputs": [],
   "source": [
    "#Libiaries\n",
    "\n",
    "#pyspark\n",
    "from pyspark.sql.functions import when, col, trim, lower, split\n",
    "from pyspark.sql.types import (StructField,StringType,IntegerType,StructType,FloatType)\n",
    "from pyspark.ml.feature import StringIndexer, OneHotEncoder\n",
    "from pyspark.ml import Pipeline\n",
    "from pyspark.sql import SparkSession\n",
    "\n",
    "#visualisation library\n",
    "import matplotlib.pyplot as plt\n",
    "import seaborn as sns"
   ]
  },
  {
   "cell_type": "markdown",
   "id": "05b69a6b",
   "metadata": {},
   "source": [
    "## 1.0 BU\n",
    "Refer to Report\n",
    "## 2.0 DU\n",
    "### 2.1 Collect initial data"
   ]
  },
  {
   "cell_type": "code",
   "execution_count": 2,
   "id": "ff21ffad",
   "metadata": {},
   "outputs": [
    {
     "name": "stderr",
     "output_type": "stream",
     "text": [
      "WARNING: An illegal reflective access operation has occurred\n",
      "WARNING: Illegal reflective access by org.apache.spark.unsafe.Platform (file:/home/ubuntu/spark-3.2.1-bin-hadoop2.7/jars/spark-unsafe_2.12-3.2.1.jar) to constructor java.nio.DirectByteBuffer(long,int)\n",
      "WARNING: Please consider reporting this to the maintainers of org.apache.spark.unsafe.Platform\n",
      "WARNING: Use --illegal-access=warn to enable warnings of further illegal reflective access operations\n",
      "WARNING: All illegal access operations will be denied in a future release\n",
      "Using Spark's default log4j profile: org/apache/spark/log4j-defaults.properties\n",
      "Setting default log level to \"WARN\".\n",
      "To adjust logging level use sc.setLogLevel(newLevel). For SparkR, use setLogLevel(newLevel).\n",
      "23/10/08 08:19:32 WARN NativeCodeLoader: Unable to load native-hadoop library for your platform... using builtin-java classes where applicable\n"
     ]
    }
   ],
   "source": [
    "# Must be included at the beginning of each new notebook. Remember to change the app name.\n",
    "import findspark\n",
    "findspark.init('/home/ubuntu/spark-3.2.1-bin-hadoop2.7')\n",
    "import pyspark\n",
    "from pyspark.sql import SparkSession\n",
    "spark = SparkSession.builder.appName('Iteration4').getOrCreate()"
   ]
  },
  {
   "cell_type": "code",
   "execution_count": 3,
   "id": "5413291f",
   "metadata": {},
   "outputs": [],
   "source": [
    "# Importing data which has a header. Schema is automatically configured.\n",
    "df = spark.read.csv('Datasets/Sleep_health_and_lifestyle_dataset(with_dirt).csv', inferSchema=True, header=True)"
   ]
  },
  {
   "cell_type": "markdown",
   "id": "161fdfde",
   "metadata": {},
   "source": [
    "### 2.2 Describe the data"
   ]
  },
  {
   "cell_type": "code",
   "execution_count": 4,
   "id": "01b3e2c5",
   "metadata": {},
   "outputs": [
    {
     "name": "stdout",
     "output_type": "stream",
     "text": [
      "+---------+------+---+--------------------+--------------+----------------+-----------------------+------------+------------+--------------+----------+-----------+--------------+\n",
      "|Person ID|Gender|Age|          Occupation|Sleep Duration|Quality of Sleep|Physical Activity Level|Stress Level|BMI Category|Blood Pressure|Heart Rate|Daily Steps|Sleep Disorder|\n",
      "+---------+------+---+--------------------+--------------+----------------+-----------------------+------------+------------+--------------+----------+-----------+--------------+\n",
      "|        1|  Male| 27|   Software Engineer|           6.1|               6|                     42|           6|  Overweight|        126/83|        77|       4200|          None|\n",
      "|        2|  Male| 28|              Doctor|           6.2|               6|                     60|           8|      Normal|        125/80|        75|      10000|          None|\n",
      "|        3|  Male| 28|              Doctor|           6.2|               6|                     60|           8|      Normal|        125/80|        75|      10000|          None|\n",
      "|        4|  Male| 28|Sales Representative|           5.9|               4|                     30|           8|       Obese|        140/90|        85|       3000|   Sleep Apnea|\n",
      "|        5|  Male| 28|Sales Representative|           5.9|               4|                     30|           8|       Obese|        140/90|        85|       3000|   Sleep Apnea|\n",
      "+---------+------+---+--------------------+--------------+----------------+-----------------------+------------+------------+--------------+----------+-----------+--------------+\n",
      "only showing top 5 rows\n",
      "\n"
     ]
    }
   ],
   "source": [
    "# Display up to 5 rows at once\n",
    "df.show(n=5)"
   ]
  },
  {
   "cell_type": "code",
   "execution_count": 5,
   "id": "0d751ca2",
   "metadata": {},
   "outputs": [
    {
     "data": {
      "text/plain": [
       "[Row(Person ID=1, Gender='Male', Age=27, Occupation='Software Engineer', Sleep Duration=6.1, Quality of Sleep=6, Physical Activity Level=42, Stress Level=6, BMI Category='Overweight', Blood Pressure='126/83', Heart Rate=77, Daily Steps=4200, Sleep Disorder='None')]"
      ]
     },
     "execution_count": 5,
     "metadata": {},
     "output_type": "execute_result"
    }
   ],
   "source": [
    "#first row\n",
    "df.head(1)"
   ]
  },
  {
   "cell_type": "code",
   "execution_count": 6,
   "id": "b045a2e3",
   "metadata": {
    "scrolled": true
   },
   "outputs": [
    {
     "data": {
      "text/plain": [
       "['Person ID',\n",
       " 'Gender',\n",
       " 'Age',\n",
       " 'Occupation',\n",
       " 'Sleep Duration',\n",
       " 'Quality of Sleep',\n",
       " 'Physical Activity Level',\n",
       " 'Stress Level',\n",
       " 'BMI Category',\n",
       " 'Blood Pressure',\n",
       " 'Heart Rate',\n",
       " 'Daily Steps',\n",
       " 'Sleep Disorder']"
      ]
     },
     "execution_count": 6,
     "metadata": {},
     "output_type": "execute_result"
    }
   ],
   "source": [
    "#columns details\n",
    "df.columns"
   ]
  },
  {
   "cell_type": "code",
   "execution_count": 7,
   "id": "3fb8241f",
   "metadata": {},
   "outputs": [
    {
     "data": {
      "text/plain": [
       "('Number of columns:', 13)"
      ]
     },
     "execution_count": 7,
     "metadata": {},
     "output_type": "execute_result"
    }
   ],
   "source": [
    "#coutn columns\n",
    "column_count = len(df.columns)\n",
    "\"Number of columns:\", column_count"
   ]
  },
  {
   "cell_type": "code",
   "execution_count": 8,
   "id": "2794e520",
   "metadata": {},
   "outputs": [
    {
     "data": {
      "text/plain": [
       "('Number of rows:', 375)"
      ]
     },
     "execution_count": 8,
     "metadata": {},
     "output_type": "execute_result"
    }
   ],
   "source": [
    "#count rows\n",
    "row_count = df.count()\n",
    "\"Number of rows:\", row_count"
   ]
  },
  {
   "cell_type": "code",
   "execution_count": 9,
   "id": "793b47cf",
   "metadata": {},
   "outputs": [
    {
     "name": "stderr",
     "output_type": "stream",
     "text": [
      "\r",
      "[Stage 7:>                                                          (0 + 1) / 1]\r"
     ]
    },
    {
     "name": "stdout",
     "output_type": "stream",
     "text": [
      "+-------+------------------+------+-----------------+----------+------------------+------------------+-----------------------+------------------+------------+--------------+-----------------+------------------+--------------+\n",
      "|summary|         Person ID|Gender|              Age|Occupation|    Sleep Duration|  Quality of Sleep|Physical Activity Level|      Stress Level|BMI Category|Blood Pressure|       Heart Rate|       Daily Steps|Sleep Disorder|\n",
      "+-------+------------------+------+-----------------+----------+------------------+------------------+-----------------------+------------------+------------+--------------+-----------------+------------------+--------------+\n",
      "|  count|               375|   375|              375|       375|               375|               375|                    375|               375|         375|           375|              374|               374|           375|\n",
      "|   mean|             188.0|  null|           42.136|      null| 7.134933333333324| 7.314666666666667|      59.22666666666667| 5.381333333333333|        null|          null|70.16577540106952| 6816.844919786096|          null|\n",
      "| stddev|108.39741694339399|  null|8.712285259247578|      null|0.7965036789098551|1.1958812262546714|      20.83072425730269|1.7735951986568852|        null|          null|4.135675535112212|1617.9156791336366|          null|\n",
      "|    min|                 1|Female|               24|Accountant|               5.8|                 4|                     30|                 3|      Normal|        115/75|               65|              3000|      Insomnia|\n",
      "|    max|               375|  Male|               59|   Teacher|               8.5|                 9|                     90|                 8|  Overweight|        142/92|               86|             10000|   Sleep Apnea|\n",
      "+-------+------------------+------+-----------------+----------+------------------+------------------+-----------------------+------------------+------------+--------------+-----------------+------------------+--------------+\n",
      "\n"
     ]
    },
    {
     "name": "stderr",
     "output_type": "stream",
     "text": [
      "\r",
      "                                                                                \r"
     ]
    }
   ],
   "source": [
    "#general statistics\n",
    "df.describe().show()"
   ]
  },
  {
   "cell_type": "code",
   "execution_count": 10,
   "id": "ecc6aee7",
   "metadata": {},
   "outputs": [
    {
     "name": "stdout",
     "output_type": "stream",
     "text": [
      "+-------+------------------+------+-----------------+----------+------------------+------------------+\n",
      "|summary|         Person ID|Gender|              Age|Occupation|    Sleep Duration|  Quality of Sleep|\n",
      "+-------+------------------+------+-----------------+----------+------------------+------------------+\n",
      "|  count|               375|   375|              375|       375|               375|               375|\n",
      "|   mean|             188.0|  null|           42.136|      null| 7.134933333333324| 7.314666666666667|\n",
      "| stddev|108.39741694339399|  null|8.712285259247578|      null|0.7965036789098551|1.1958812262546714|\n",
      "|    min|                 1|Female|               24|Accountant|               5.8|                 4|\n",
      "|    max|               375|  Male|               59|   Teacher|               8.5|                 9|\n",
      "+-------+------------------+------+-----------------+----------+------------------+------------------+\n",
      "\n",
      "+-------+-----------------------+------------------+------------+--------------+\n",
      "|summary|Physical Activity Level|      Stress Level|BMI Category|Blood Pressure|\n",
      "+-------+-----------------------+------------------+------------+--------------+\n",
      "|  count|                    375|               375|         375|           375|\n",
      "|   mean|      59.22666666666667| 5.381333333333333|        null|          null|\n",
      "| stddev|      20.83072425730269|1.7735951986568852|        null|          null|\n",
      "|    min|                     30|                 3|      Normal|        115/75|\n",
      "|    max|                     90|                 8|  Overweight|        142/92|\n",
      "+-------+-----------------------+------------------+------------+--------------+\n",
      "\n",
      "+-------+-----------------+------------------+--------------+\n",
      "|summary|       Heart Rate|       Daily Steps|Sleep Disorder|\n",
      "+-------+-----------------+------------------+--------------+\n",
      "|  count|              374|               374|           375|\n",
      "|   mean|70.16577540106952| 6816.844919786096|          null|\n",
      "| stddev|4.135675535112212|1617.9156791336366|          null|\n",
      "|    min|               65|              3000|      Insomnia|\n",
      "|    max|               86|             10000|   Sleep Apnea|\n",
      "+-------+-----------------+------------------+--------------+\n",
      "\n"
     ]
    }
   ],
   "source": [
    "# Select the first 6 columns by index\n",
    "selected_columns = df.columns[:6]  \n",
    "\n",
    "# Create a new DataFrame with the selected columns\n",
    "selected_df = df.select(selected_columns)\n",
    "\n",
    "# Calculate and display summary statistics for the selected columns\n",
    "selected_describe = selected_df.describe()\n",
    "selected_describe.show()\n",
    "\n",
    "# Select and create 6-10 columns by index\n",
    "selected_columns2 = df.columns[6:10]  \n",
    "selected_df2 = df.select(selected_columns2)\n",
    "\n",
    "# display\n",
    "selected_df2.describe().show()\n",
    "\n",
    "# Select and create remainingn columns\n",
    "selected_columns3 = df.columns[10:]  \n",
    "selected_df3 = df.select(selected_columns3)\n",
    "\n",
    "# display\n",
    "selected_df3.describe().show()"
   ]
  },
  {
   "cell_type": "code",
   "execution_count": 11,
   "id": "e96b1a44",
   "metadata": {},
   "outputs": [
    {
     "name": "stdout",
     "output_type": "stream",
     "text": [
      "root\n",
      " |-- Person ID: integer (nullable = true)\n",
      " |-- Gender: string (nullable = true)\n",
      " |-- Age: integer (nullable = true)\n",
      " |-- Occupation: string (nullable = true)\n",
      " |-- Sleep Duration: double (nullable = true)\n",
      " |-- Quality of Sleep: integer (nullable = true)\n",
      " |-- Physical Activity Level: integer (nullable = true)\n",
      " |-- Stress Level: integer (nullable = true)\n",
      " |-- BMI Category: string (nullable = true)\n",
      " |-- Blood Pressure: string (nullable = true)\n",
      " |-- Heart Rate: integer (nullable = true)\n",
      " |-- Daily Steps: integer (nullable = true)\n",
      " |-- Sleep Disorder: string (nullable = true)\n",
      "\n"
     ]
    }
   ],
   "source": [
    "df.printSchema()"
   ]
  },
  {
   "cell_type": "code",
   "execution_count": 12,
   "id": "851a9baa",
   "metadata": {},
   "outputs": [
    {
     "name": "stdout",
     "output_type": "stream",
     "text": [
      "+-------+------------------+------+-----------------+----------+------------------+------------------+\n",
      "|summary|         Person ID|Gender|              Age|Occupation|    Sleep Duration|  Quality of Sleep|\n",
      "+-------+------------------+------+-----------------+----------+------------------+------------------+\n",
      "|  count|               375|   375|              375|       375|               375|               375|\n",
      "|   mean|             188.0|  null|           42.136|      null| 7.134933333333324| 7.314666666666667|\n",
      "| stddev|108.39741694339399|  null|8.712285259247578|      null|0.7965036789098551|1.1958812262546714|\n",
      "|    min|                 1|Female|               24|Accountant|               5.8|                 4|\n",
      "|    max|               375|  Male|               59|   Teacher|               8.5|                 9|\n",
      "+-------+------------------+------+-----------------+----------+------------------+------------------+\n",
      "\n",
      "+-------+-----------------------+------------------+------------+--------------+\n",
      "|summary|Physical Activity Level|      Stress Level|BMI Category|Blood Pressure|\n",
      "+-------+-----------------------+------------------+------------+--------------+\n",
      "|  count|                    375|               375|         375|           375|\n",
      "|   mean|      59.22666666666667| 5.381333333333333|        null|          null|\n",
      "| stddev|      20.83072425730269|1.7735951986568852|        null|          null|\n",
      "|    min|                     30|                 3|      Normal|        115/75|\n",
      "|    max|                     90|                 8|  Overweight|        142/92|\n",
      "+-------+-----------------------+------------------+------------+--------------+\n",
      "\n",
      "+-------+-----------------+------------------+--------------+\n",
      "|summary|       Heart Rate|       Daily Steps|Sleep Disorder|\n",
      "+-------+-----------------+------------------+--------------+\n",
      "|  count|              374|               374|           375|\n",
      "|   mean|70.16577540106952| 6816.844919786096|          null|\n",
      "| stddev|4.135675535112212|1617.9156791336366|          null|\n",
      "|    min|               65|              3000|      Insomnia|\n",
      "|    max|               86|             10000|   Sleep Apnea|\n",
      "+-------+-----------------+------------------+--------------+\n",
      "\n"
     ]
    }
   ],
   "source": [
    "# Select the first 6 columns by index\n",
    "selected_columns = df.columns[:6]  \n",
    "\n",
    "# Create a new DataFrame with the selected columns\n",
    "selected_df = df.select(selected_columns)\n",
    "\n",
    "# Calculate and display summary statistics for the selected columns\n",
    "selected_describe = selected_df.describe()\n",
    "selected_describe.show()\n",
    "\n",
    "# Select and create 6-10 columns by index\n",
    "selected_columns2 = df.columns[6:10]  \n",
    "selected_df2 = df.select(selected_columns2)\n",
    "\n",
    "# display\n",
    "selected_df2.describe().show()\n",
    "\n",
    "# Select and create remainingn columns\n",
    "selected_columns3 = df.columns[10:]  \n",
    "selected_df3 = df.select(selected_columns3)\n",
    "\n",
    "# display\n",
    "selected_df3.describe().show()"
   ]
  },
  {
   "cell_type": "markdown",
   "id": "73ebafbb",
   "metadata": {},
   "source": [
    "### 2.3 Explore the data"
   ]
  },
  {
   "cell_type": "code",
   "execution_count": 13,
   "id": "c1dd878c",
   "metadata": {},
   "outputs": [],
   "source": [
    "#visualisation library\n",
    "import matplotlib.pyplot as plt"
   ]
  },
  {
   "cell_type": "code",
   "execution_count": 14,
   "id": "cf70ca4d",
   "metadata": {},
   "outputs": [
    {
     "name": "stdout",
     "output_type": "stream",
     "text": [
      "root\n",
      " |-- Person ID: integer (nullable = true)\n",
      " |-- Gender: string (nullable = true)\n",
      " |-- Age: integer (nullable = true)\n",
      " |-- Occupation: string (nullable = true)\n",
      " |-- Sleep Duration: float (nullable = true)\n",
      " |-- Quality of Sleep: integer (nullable = true)\n",
      " |-- Physical Activity Level: integer (nullable = true)\n",
      " |-- Stress Level: integer (nullable = true)\n",
      " |-- BMI Category: string (nullable = true)\n",
      " |-- Blood Pressure: string (nullable = true)\n",
      " |-- Heart Rate: integer (nullable = true)\n",
      " |-- Daily Steps: integer (nullable = true)\n",
      " |-- Sleep Disorder: string (nullable = true)\n",
      "\n"
     ]
    }
   ],
   "source": [
    "#import in the relevant types.\n",
    "from pyspark.sql.functions import col\n",
    "from pyspark.sql.types import (StructField,StringType,IntegerType,StructType,FloatType)\n",
    "\n",
    "# Define the new data types\n",
    "new_data_types = [\n",
    "    StructField('Person ID', IntegerType(), True),\n",
    "    StructField('Gender', StringType(), True),\n",
    "    StructField('Age', IntegerType(), True),\n",
    "    StructField('Occupation', StringType(), True),\n",
    "    StructField('Sleep Duration', FloatType(), True),\n",
    "    StructField('Quality of Sleep', IntegerType(), True),\n",
    "    StructField('Physical Activity Level', IntegerType(), True),\n",
    "    StructField('Stress Level', IntegerType(), True),\n",
    "    StructField('BMI Category', StringType(), True),\n",
    "    StructField('Blood Pressure', StringType(), True),\n",
    "    StructField('Heart Rate', IntegerType(), True),\n",
    "    StructField('Daily Steps', IntegerType(), True),\n",
    "    StructField('Sleep Disorder', StringType(), True)\n",
    "]\n",
    "\n",
    "# Apply the new data types to the DataFrame\n",
    "for field in new_data_types:\n",
    "    df = df.withColumn(field.name, col(field.name).cast(field.dataType))\n",
    "\n",
    "df.printSchema()"
   ]
  },
  {
   "cell_type": "code",
   "execution_count": 15,
   "id": "53c3bf0b",
   "metadata": {},
   "outputs": [
    {
     "name": "stdout",
     "output_type": "stream",
     "text": [
      "Correlation between Stress Level vs Quality of Sleep: -0.8988221179010679\n",
      "Correlation between Quality of Sleep vs Stress Level: -0.8988221179010678\n",
      "Correlation between Sleep Duration vs Quality of Sleep: 0.8827599898099926\n",
      "Correlation between Quality of Sleep vs Sleep Duration: 0.8827599898099926\n",
      "Correlation between Stress Level vs Sleep Duration: -0.8112107037194135\n",
      "Correlation between Sleep Duration vs Stress Level: -0.8112107037194134\n",
      "Correlation between Physical Activity Level vs Daily Steps: 0.7430129424357466\n",
      "Correlation between Daily Steps vs Physical Activity Level: 0.7430129424357462\n",
      "Correlation between Stress Level vs Heart Rate: 0.5298582185138335\n",
      "Correlation between Heart Rate vs Stress Level: 0.5298582185138334\n",
      "Correlation between Quality of Sleep vs Heart Rate: -0.5153849267003257\n",
      "Correlation between Heart Rate vs Quality of Sleep: -0.5153849267003254\n",
      "Correlation between Age vs Quality of Sleep: 0.4675684450648573\n",
      "Correlation between Quality of Sleep vs Age: 0.46756844506485723\n",
      "Correlation between Sleep Duration vs Heart Rate: -0.4329586406227498\n",
      "Correlation between Heart Rate vs Sleep Duration: -0.43295864062274964\n",
      "Correlation between Age vs Stress Level: -0.41519598879213687\n",
      "Correlation between Stress Level vs Age: -0.4151959887921368\n",
      "Correlation between Age vs Sleep Duration: 0.3344163034756508\n",
      "Correlation between Sleep Duration vs Age: 0.3344163034756508\n",
      "Correlation between Sleep Duration vs Physical Activity Level: 0.21514315514917584\n",
      "Correlation between Physical Activity Level vs Sleep Duration: 0.21514315514917562\n",
      "Correlation between Physical Activity Level vs Quality of Sleep: 0.1940864667514412\n",
      "Correlation between Quality of Sleep vs Physical Activity Level: 0.19408646675144112\n",
      "Correlation between Daily Steps vs Stress Level: 0.19098269485814195\n",
      "Correlation between Stress Level vs Daily Steps: 0.19098269485814193\n",
      "Correlation between Physical Activity Level vs Age: 0.17214715265995545\n",
      "Correlation between Age vs Physical Activity Level: 0.17214715265995537\n",
      "Correlation between Heart Rate vs Daily Steps: 0.11812498942680867\n",
      "Correlation between Daily Steps vs Heart Rate: 0.11812498942680857\n",
      "Correlation between Age vs Heart Rate: -0.09752383561119658\n",
      "Correlation between Heart Rate vs Age: -0.09752383561119655\n",
      "Correlation between Daily Steps vs Age: 0.07925903624178282\n",
      "Correlation between Age vs Daily Steps: 0.0792590362417828\n",
      "Correlation between Physical Activity Level vs Heart Rate: 0.06877433637396956\n",
      "Correlation between Heart Rate vs Physical Activity Level: 0.0687743363739695\n",
      "Correlation between Sleep Duration vs Daily Steps: -0.053272361575271814\n",
      "Correlation between Daily Steps vs Sleep Duration: -0.053272361575271765\n",
      "Correlation between Stress Level vs Physical Activity Level: -0.036143454275085675\n",
      "Correlation between Physical Activity Level vs Stress Level: -0.03614345427508562\n",
      "Correlation between Daily Steps vs Quality of Sleep: 0.010082758160998023\n",
      "Correlation between Quality of Sleep vs Daily Steps: 0.010082758160997969\n"
     ]
    }
   ],
   "source": [
    "#1. Correlation between the variables\n",
    "numeric_columns = [\"Age\", \"Sleep Duration\", \"Quality of Sleep\", \"Physical Activity Level\", \"Stress Level\", \"Heart Rate\", \"Daily Steps\"]\n",
    "\n",
    "#calculate correlations between numeric columns\n",
    "correlations = {}\n",
    "for col1 in numeric_columns:\n",
    "    for col2 in numeric_columns:\n",
    "        if col1 != col2:\n",
    "            correlation = df.corr(col1, col2)\n",
    "            correlations[f\"{col1} vs {col2}\"] = correlation\n",
    "\n",
    "#rank correlations from high to low\n",
    "sorted_correlations = sorted(correlations.items(), key=lambda x: abs(x[1]), reverse=True)\n",
    "\n",
    "#print or use the sorted correlation values\n",
    "for key, value in sorted_correlations:\n",
    "    print(f\"Correlation between {key}: {value}\")"
   ]
  },
  {
   "cell_type": "code",
   "execution_count": 16,
   "id": "185ff15f",
   "metadata": {},
   "outputs": [
    {
     "data": {
      "image/png": "[encoded data removed]",
      "text/plain": [
       "<Figure size 432x288 with 1 Axes>"
      ]
     },
     "metadata": {
      "needs_background": "light"
     },
     "output_type": "display_data"
    }
   ],
   "source": [
    "#2. Distribution of Sleep Duration\n",
    "sleep_duration_distribution = df.select(\"Sleep Duration\").toPandas()\n",
    "plt.hist(sleep_duration_distribution, bins=20, color='blue', alpha=0.7)\n",
    "plt.xlabel(\"Sleep Duration\")\n",
    "plt.ylabel(\"Frequency\")\n",
    "plt.title(\"Distribution of Sleep Duration\")\n",
    "plt.show()"
   ]
  },
  {
   "cell_type": "code",
   "execution_count": 17,
   "id": "e5c05a55",
   "metadata": {},
   "outputs": [
    {
     "name": "stdout",
     "output_type": "stream",
     "text": [
      "+---------------------+-----+\n",
      "|SleepDurationCategory|Count|\n",
      "+---------------------+-----+\n",
      "|            < 7 hours|  155|\n",
      "|           >= 7 hours|  220|\n",
      "+---------------------+-----+\n",
      "\n"
     ]
    }
   ],
   "source": [
    "#register your DataFrame as a temporary SQL table\n",
    "df.createOrReplaceTempView(\"sleep_table\")\n",
    "\n",
    "#SQL query to get counts for Sleep Duration < 7 and >= 7\n",
    "sleep_duration_distribution = spark.sql(\"\"\"\n",
    "    SELECT\n",
    "        CASE WHEN CAST(`Sleep Duration` AS FLOAT) < 7 THEN '< 7 hours'\n",
    "             WHEN CAST(`Sleep Duration` AS FLOAT) >= 7 THEN '>= 7 hours'\n",
    "             ELSE 'Unknown'\n",
    "        END AS SleepDurationCategory,\n",
    "        COUNT(*) AS Count\n",
    "    FROM sleep_table\n",
    "    WHERE `Sleep Duration` IS NOT NULL\n",
    "    GROUP BY SleepDurationCategory\n",
    "\"\"\")\n",
    "#show the Sleep Duration distribution\n",
    "sleep_duration_distribution.show()"
   ]
  },
  {
   "cell_type": "code",
   "execution_count": 18,
   "id": "2beb72b0",
   "metadata": {},
   "outputs": [
    {
     "name": "stdout",
     "output_type": "stream",
     "text": [
      "+------+-----+\n",
      "|Gender|Count|\n",
      "+------+-----+\n",
      "|Female|  186|\n",
      "|  Male|  189|\n",
      "+------+-----+\n",
      "\n"
     ]
    }
   ],
   "source": [
    "#3. Values in Gender (use SQL)\n",
    "#register your DataFrame as a temporary SQL table\n",
    "df.createOrReplaceTempView(\"sleep_table\")\n",
    "\n",
    "#use SQL queries to get gender counts\n",
    "gender_distribution = spark.sql(\"SELECT Gender, COUNT(*) AS Count FROM sleep_table WHERE Gender != 'Gender' GROUP BY Gender\")\n",
    "gender_distribution.show()"
   ]
  },
  {
   "cell_type": "code",
   "execution_count": 19,
   "id": "98be8542",
   "metadata": {
    "scrolled": true
   },
   "outputs": [
    {
     "data": {
      "image/png": "[encoded data removed]",
      "text/plain": [
       "<Figure size 432x288 with 1 Axes>"
      ]
     },
     "metadata": {
      "needs_background": "light"
     },
     "output_type": "display_data"
    }
   ],
   "source": [
    "#plot the gender distribution\n",
    "gender_counts = gender_distribution.toPandas()\n",
    "\n",
    "plt.figure(figsize=(6, 4))\n",
    "plt.bar(gender_counts['Gender'], gender_counts['Count'], color=['blue', 'green'])\n",
    "plt.xlabel(\"Gender\")\n",
    "plt.ylabel(\"Count\")\n",
    "plt.title(\"Gender Distribution\")\n",
    "plt.show()"
   ]
  },
  {
   "cell_type": "code",
   "execution_count": 20,
   "id": "17af3d1e",
   "metadata": {},
   "outputs": [
    {
     "name": "stdout",
     "output_type": "stream",
     "text": [
      "+----------------+-----+\n",
      "|Quality of Sleep|count|\n",
      "+----------------+-----+\n",
      "|               4|    5|\n",
      "|               5|    7|\n",
      "|               6|  105|\n",
      "|               7|   77|\n",
      "|               8|  110|\n",
      "|               9|   71|\n",
      "+----------------+-----+\n",
      "\n"
     ]
    }
   ],
   "source": [
    "#4. Distribution of Quality of Sleep\n",
    "df.groupBy('Quality of Sleep').count().orderBy(col('Quality of Sleep')).show()"
   ]
  },
  {
   "cell_type": "code",
   "execution_count": 21,
   "id": "b2c6ade7",
   "metadata": {},
   "outputs": [
    {
     "data": {
      "image/png": "[encoded data removed]",
      "text/plain": [
       "<Figure size 432x288 with 1 Axes>"
      ]
     },
     "metadata": {
      "needs_background": "light"
     },
     "output_type": "display_data"
    }
   ],
   "source": [
    "quality_of_sleep_distribution = df.select(\"Quality of Sleep\").toPandas()\n",
    "plt.hist(quality_of_sleep_distribution, bins=5, color='green', alpha=0.7)\n",
    "plt.xlabel(\"Quality of Sleep\")\n",
    "plt.ylabel(\"Frequency\")\n",
    "plt.title(\"Distribution of Quality of Sleep\")\n",
    "plt.show()"
   ]
  },
  {
   "cell_type": "code",
   "execution_count": 22,
   "id": "b6647654",
   "metadata": {},
   "outputs": [
    {
     "name": "stdout",
     "output_type": "stream",
     "text": [
      "+--------------+-----+\n",
      "|Sleep Disorder|count|\n",
      "+--------------+-----+\n",
      "|          None|  220|\n",
      "|   Sleep Apnea|   78|\n",
      "|      Insomnia|   77|\n",
      "+--------------+-----+\n",
      "\n"
     ]
    }
   ],
   "source": [
    "df.groupBy('Sleep Disorder').count().show()"
   ]
  },
  {
   "cell_type": "code",
   "execution_count": 23,
   "id": "b5a5da06",
   "metadata": {},
   "outputs": [
    {
     "data": {
      "image/png": "[encoded data removed]",
      "text/plain": [
       "<Figure size 432x288 with 1 Axes>"
      ]
     },
     "metadata": {
      "needs_background": "light"
     },
     "output_type": "display_data"
    }
   ],
   "source": [
    "#5. Distribution in 'Sleep Disorder'\n",
    "sleep_disorder_distribution = df.select(\"Sleep Disorder\").toPandas()\n",
    "sleep_disorder_distribution.value_counts().plot(kind='bar', color='blue', alpha=0.7)\n",
    "plt.xlabel(\"Sleep Disorder\")\n",
    "plt.ylabel(\"Frequency\")\n",
    "plt.title(\"Distribution of Sleep Disorder\")\n",
    "plt.show()"
   ]
  },
  {
   "cell_type": "code",
   "execution_count": 24,
   "id": "9491b7fe",
   "metadata": {},
   "outputs": [
    {
     "name": "stdout",
     "output_type": "stream",
     "text": [
      "Correlation between Sleep Duration and Quality of Sleep: 0.8827599898099926\n"
     ]
    }
   ],
   "source": [
    "#6. Correlation between Sleep Duration and Quality of Sleep\n",
    "correlation_sleep_duration_quality = df.corr(\"Sleep Duration\", \"Quality of Sleep\")\n",
    "print(\"Correlation between Sleep Duration and Quality of Sleep:\", correlation_sleep_duration_quality)"
   ]
  },
  {
   "cell_type": "code",
   "execution_count": 25,
   "id": "1105b420",
   "metadata": {},
   "outputs": [
    {
     "data": {
      "image/png": "[encoded data removed]",
      "text/plain": [
       "<Figure size 432x288 with 1 Axes>"
      ]
     },
     "metadata": {
      "needs_background": "light"
     },
     "output_type": "display_data"
    }
   ],
   "source": [
    "#plot the correlation\n",
    "plt.scatter(df.select('Sleep Duration').toPandas(), df.select('Quality of Sleep').toPandas())\n",
    "plt.title('Correlation between Sleep Duration and Quality of Sleep')\n",
    "plt.xlabel('Sleep Duration')\n",
    "plt.ylabel('Quality of Sleep')\n",
    "plt.show()"
   ]
  },
  {
   "cell_type": "code",
   "execution_count": 26,
   "id": "f0c0662a",
   "metadata": {},
   "outputs": [
    {
     "name": "stdout",
     "output_type": "stream",
     "text": [
      "Correlation between Age and Quality of Sleep: 0.4675684450648573\n"
     ]
    }
   ],
   "source": [
    "#7. Correlation between Age and Quality of Sleep\n",
    "correlation_age_quality = df.corr(\"Age\", \"Quality of Sleep\")\n",
    "print(\"Correlation between Age and Quality of Sleep:\", correlation_age_quality)"
   ]
  },
  {
   "cell_type": "code",
   "execution_count": 27,
   "id": "1ab7e987",
   "metadata": {},
   "outputs": [
    {
     "data": {
      "image/png": "[encoded data removed]",
      "text/plain": [
       "<Figure size 432x288 with 1 Axes>"
      ]
     },
     "metadata": {
      "needs_background": "light"
     },
     "output_type": "display_data"
    }
   ],
   "source": [
    "#plot the correlation\n",
    "plt.scatter(df.select('Age').toPandas(), df.select('Quality of Sleep').toPandas())\n",
    "plt.title('Correlation between Age and Quality of Sleep')\n",
    "plt.xlabel('Age')\n",
    "plt.ylabel('Quality of Sleep')\n",
    "plt.show()"
   ]
  },
  {
   "cell_type": "code",
   "execution_count": 28,
   "id": "bbbc9b8c",
   "metadata": {},
   "outputs": [
    {
     "name": "stdout",
     "output_type": "stream",
     "text": [
      "+---+------------------------+\n",
      "|Age|Average Quality of Sleep|\n",
      "+---+------------------------+\n",
      "|24 |8.0                     |\n",
      "|27 |6.0                     |\n",
      "|28 |4.8                     |\n",
      "|29 |6.15                    |\n",
      "|30 |6.69                    |\n",
      "|31 |6.89                    |\n",
      "|32 |6.53                    |\n",
      "|33 |6.0                     |\n",
      "|34 |4.0                     |\n",
      "|35 |7.75                    |\n",
      "|36 |7.5                     |\n",
      "|37 |7.9                     |\n",
      "|38 |7.95                    |\n",
      "|39 |7.87                    |\n",
      "|40 |8.0                     |\n",
      "|41 |7.83                    |\n",
      "|42 |7.33                    |\n",
      "|43 |7.09                    |\n",
      "|44 |6.4                     |\n",
      "|45 |7.0                     |\n",
      "|48 |6.67                    |\n",
      "|49 |6.55                    |\n",
      "|50 |6.15                    |\n",
      "|51 |7.63                    |\n",
      "|52 |7.67                    |\n",
      "|53 |9.0                     |\n",
      "|54 |9.0                     |\n",
      "|55 |9.0                     |\n",
      "|56 |9.0                     |\n",
      "|57 |9.0                     |\n",
      "|58 |9.0                     |\n",
      "|59 |9.0                     |\n",
      "+---+------------------------+\n",
      "\n"
     ]
    }
   ],
   "source": [
    "#register the DataFrame as a temporary table\n",
    "df.createOrReplaceTempView(\"sleep_data\")\n",
    "\n",
    "from pyspark.sql.functions import avg, round\n",
    "\n",
    "#calculate the average of Quality of Sleep grouped by Age and round to 2 decimal places\n",
    "average_quality_of_sleep = df.groupBy('Age').agg(round(avg('Quality of Sleep'), 2).alias('Average Quality of Sleep')).orderBy('Age')\n",
    "\n",
    "#show all the result\n",
    "average_quality_of_sleep.show(n=df.count(), truncate=False)"
   ]
  },
  {
   "cell_type": "code",
   "execution_count": 29,
   "id": "eab6f6a2",
   "metadata": {},
   "outputs": [
    {
     "data": {
      "image/png": "[encoded data removed]",
      "text/plain": [
       "<Figure size 432x288 with 1 Axes>"
      ]
     },
     "metadata": {
      "needs_background": "light"
     },
     "output_type": "display_data"
    }
   ],
   "source": [
    "#extract the Age and Average Quality of Sleep columns\n",
    "age = average_quality_of_sleep.select('Age').toPandas()['Age']\n",
    "quality_of_sleep = average_quality_of_sleep.select('Average Quality of Sleep').toPandas()['Average Quality of Sleep']\n",
    "\n",
    "#plot the Age and Average Quality of Sleep\n",
    "plt.plot(age, quality_of_sleep, marker='o')\n",
    "plt.title('Average Quality of Sleep by Age')\n",
    "plt.xlabel('Age')\n",
    "plt.ylabel('Average Quality of Sleep')\n",
    "plt.show()"
   ]
  },
  {
   "cell_type": "code",
   "execution_count": 30,
   "id": "d5b59edf",
   "metadata": {},
   "outputs": [
    {
     "name": "stderr",
     "output_type": "stream",
     "text": [
      "\r",
      "[Stage 116:>                                                        (0 + 1) / 1]\r",
      "\r",
      "                                                                                \r"
     ]
    },
    {
     "data": {
      "image/png": "[encoded data removed]",
      "text/plain": [
       "<Figure size 720x432 with 2 Axes>"
      ]
     },
     "metadata": {
      "needs_background": "light"
     },
     "output_type": "display_data"
    }
   ],
   "source": [
    "#8. Correlation between Quality of Sleep, Physical Activity Level and Stress Level\n",
    "# Extract the columns for the scatterplot\n",
    "x = df.select(\"Quality of Sleep\").rdd.flatMap(lambda x: x).collect()\n",
    "y = df.select(\"Physical Activity Level\").rdd.flatMap(lambda x: x).collect()\n",
    "colors = df.select(\"Stress Level\").rdd.flatMap(lambda x: x).collect()\n",
    "\n",
    "#Create the scatterplot\n",
    "plt.figure(figsize=(10, 6))\n",
    "scatter = plt.scatter(x, y, c=colors, cmap='viridis')\n",
    "plt.xlabel(\"Quality of Sleep\")\n",
    "plt.ylabel(\"Physical Activity Level\")\n",
    "plt.title(\"Scatterplot of Quality of Sleep vs. Physical Activity Level\")\n",
    "plt.colorbar(scatter, label=\"Stress Level\")\n",
    "plt.show()"
   ]
  },
  {
   "cell_type": "code",
   "execution_count": 31,
   "id": "711f7f9d",
   "metadata": {},
   "outputs": [
    {
     "name": "stdout",
     "output_type": "stream",
     "text": [
      "Correlation between Sleep Duration and Quality of Sleep: 0.8827599898099926\n"
     ]
    }
   ],
   "source": [
    "#9. Correlation between Sleep duration and Quality of Sleep\n",
    "correlation_sleep_duration_quality = df.corr(\"Sleep Duration\", \"Quality of Sleep\")\n",
    "print(\"Correlation between Sleep Duration and Quality of Sleep:\", correlation_sleep_duration_quality)"
   ]
  },
  {
   "cell_type": "code",
   "execution_count": 32,
   "id": "6425efaa",
   "metadata": {},
   "outputs": [
    {
     "data": {
      "image/png": "[encoded data removed]",
      "text/plain": [
       "<Figure size 432x288 with 1 Axes>"
      ]
     },
     "metadata": {
      "needs_background": "light"
     },
     "output_type": "display_data"
    }
   ],
   "source": [
    "#plot the correlation\n",
    "plt.scatter(df.select('Sleep Duration').toPandas(), df.select('Quality of Sleep').toPandas())\n",
    "plt.title('Correlation between Sleep Duration and Quality of Sleep')\n",
    "plt.xlabel('Sleep Duration')\n",
    "plt.ylabel('Quality of Sleep')\n",
    "plt.show()"
   ]
  },
  {
   "cell_type": "code",
   "execution_count": 33,
   "id": "50410dbc",
   "metadata": {},
   "outputs": [
    {
     "name": "stdout",
     "output_type": "stream",
     "text": [
      "+--------------+----------------+\n",
      "|Sleep Disorder|Quality of Sleep|\n",
      "+--------------+----------------+\n",
      "|          None|               6|\n",
      "|          None|               6|\n",
      "|          None|               6|\n",
      "|   Sleep Apnea|               4|\n",
      "|   Sleep Apnea|               4|\n",
      "|      Insomnia|               4|\n",
      "|      Insomnia|               6|\n",
      "|          None|               7|\n",
      "|          None|               7|\n",
      "|          None|               7|\n",
      "|          None|               6|\n",
      "|          None|               7|\n",
      "|          None|               6|\n",
      "|          None|               6|\n",
      "|          None|               6|\n",
      "|          None|               6|\n",
      "|   Sleep Apnea|               5|\n",
      "|   Sleep Apnea|               6|\n",
      "|      Insomnia|               5|\n",
      "|          None|               7|\n",
      "+--------------+----------------+\n",
      "only showing top 20 rows\n",
      "\n"
     ]
    }
   ],
   "source": [
    "#10. Correlation between Sleep Disorder and Quality of Sleep\n",
    "# Register the DataFrame as a temporary table\n",
    "df.createOrReplaceTempView(\"sleep_data\")\n",
    "\n",
    "# Execute the SQL query to select Sleep Disorder and Quality of Sleep\n",
    "sleep_disorder_and_quality = spark.sql(\"SELECT `Sleep Disorder`, `Quality of Sleep` FROM sleep_data\")\n",
    "\n",
    "# Show the result\n",
    "sleep_disorder_and_quality.show()"
   ]
  },
  {
   "cell_type": "code",
   "execution_count": 34,
   "id": "4a6940fc",
   "metadata": {},
   "outputs": [
    {
     "name": "stdout",
     "output_type": "stream",
     "text": [
      "+--------------+------------------------+\n",
      "|Sleep Disorder|Average Quality of Sleep|\n",
      "+--------------+------------------------+\n",
      "|          None|       7.627272727272727|\n",
      "|   Sleep Apnea|       7.205128205128205|\n",
      "|      Insomnia|       6.532467532467533|\n",
      "+--------------+------------------------+\n",
      "\n"
     ]
    }
   ],
   "source": [
    "from pyspark.sql.functions import avg\n",
    "\n",
    "# Calculate the average of Quality of Sleep grouped by Sleep Disorder\n",
    "average_quality_of_sleep = df.groupBy('Sleep Disorder').agg(avg('Quality of Sleep').alias('Average Quality of Sleep'))\n",
    "\n",
    "# Show the result\n",
    "average_quality_of_sleep.show()"
   ]
  },
  {
   "cell_type": "markdown",
   "id": "f75b3bc4",
   "metadata": {},
   "source": [
    "### 2.4\tVerify the data quality"
   ]
  },
  {
   "cell_type": "code",
   "execution_count": 35,
   "id": "34bd8595",
   "metadata": {},
   "outputs": [
    {
     "name": "stdout",
     "output_type": "stream",
     "text": [
      "Column 'Person ID': 0 null values\n",
      "Column 'Gender': 0 null values\n",
      "Column 'Age': 0 null values\n",
      "Column 'Occupation': 0 null values\n",
      "Column 'Sleep Duration': 0 null values\n",
      "Column 'Quality of Sleep': 0 null values\n",
      "Column 'Physical Activity Level': 0 null values\n",
      "Column 'Stress Level': 0 null values\n",
      "Column 'BMI Category': 0 null values\n",
      "Column 'Blood Pressure': 0 null values\n",
      "Column 'Heart Rate': 1 null values\n",
      "Column 'Daily Steps': 1 null values\n",
      "Column 'Sleep Disorder': 0 null values\n"
     ]
    }
   ],
   "source": [
    "#check null values\n",
    "#iterate through each column and count the number of null values\n",
    "for col in df.columns:\n",
    "    null_count = df.filter(df[col].isNull()).count()\n",
    "    print(f\"Column '{col}': {null_count} null values\")"
   ]
  },
  {
   "cell_type": "code",
   "execution_count": 36,
   "id": "9fb8a7d4",
   "metadata": {},
   "outputs": [
    {
     "name": "stdout",
     "output_type": "stream",
     "text": [
      "+-------------+-----+\n",
      "| BMI Category|count|\n",
      "+-------------+-----+\n",
      "|       Normal|  196|\n",
      "|   Overweight|  148|\n",
      "|Normal Weight|   21|\n",
      "|        Obese|   10|\n",
      "+-------------+-----+\n",
      "\n"
     ]
    }
   ],
   "source": [
    "#check detail of 'BMI Category'\n",
    "#group the data by 'BMI Category' and count the occurrences of each category\n",
    "bmi_category_counts = df.groupBy('BMI Category').count().orderBy('count', ascending=False)\n",
    "\n",
    "#show the details\n",
    "bmi_category_counts.show()"
   ]
  },
  {
   "cell_type": "markdown",
   "id": "1f732b99",
   "metadata": {},
   "source": [
    "## Data Preparation "
   ]
  },
  {
   "cell_type": "markdown",
   "id": "8f89a8a7",
   "metadata": {},
   "source": [
    "### 3.1 Select Data"
   ]
  },
  {
   "cell_type": "code",
   "execution_count": 37,
   "id": "7e62c26f",
   "metadata": {},
   "outputs": [
    {
     "name": "stdout",
     "output_type": "stream",
     "text": [
      "+---------+------+---+-----------------+--------------+----------------+-----------------------+------------+------------+--------------+-----------+--------------+\n",
      "|Person ID|Gender|Age|       Occupation|Sleep Duration|Quality of Sleep|Physical Activity Level|Stress Level|BMI Category|Blood Pressure|Daily Steps|Sleep Disorder|\n",
      "+---------+------+---+-----------------+--------------+----------------+-----------------------+------------+------------+--------------+-----------+--------------+\n",
      "|        1|  Male| 27|Software Engineer|           6.1|               6|                     42|           6|  Overweight|        126/83|       4200|          None|\n",
      "|        2|  Male| 28|           Doctor|           6.2|               6|                     60|           8|      Normal|        125/80|      10000|          None|\n",
      "+---------+------+---+-----------------+--------------+----------------+-----------------------+------------+------------+--------------+-----------+--------------+\n",
      "only showing top 2 rows\n",
      "\n"
     ]
    }
   ],
   "source": [
    "#create a new DataFrame 'df_select' by dropping the 'Heart Rate' column\n",
    "df_select = df.drop('Heart Rate')\n",
    "\n",
    "#show the 'df_select' DataFrame with first 2 rows\n",
    "df_select.show(2)"
   ]
  },
  {
   "cell_type": "code",
   "execution_count": 38,
   "id": "16e62a6a",
   "metadata": {},
   "outputs": [
    {
     "name": "stdout",
     "output_type": "stream",
     "text": [
      "columns: ['Person ID', 'Gender', 'Age', 'Occupation', 'Sleep Duration', 'Quality of Sleep', 'Physical Activity Level', 'Stress Level', 'BMI Category', 'Blood Pressure', 'Daily Steps', 'Sleep Disorder']\n",
      "Number of columns: 12\n"
     ]
    }
   ],
   "source": [
    "#show variables\n",
    "print(\"columns:\", df_select.columns)\n",
    "\n",
    "#coutn columns\n",
    "column_count = len(df_select.columns)\n",
    "print(\"Number of columns:\", column_count)"
   ]
  },
  {
   "cell_type": "markdown",
   "id": "1629b0ee",
   "metadata": {},
   "source": [
    "### 3.2 Clean Data"
   ]
  },
  {
   "cell_type": "code",
   "execution_count": 39,
   "id": "02191a14",
   "metadata": {},
   "outputs": [],
   "source": [
    "#import original dataset\n",
    "df_original = spark.read.csv('Datasets/Sleep_health_and_lifestyle_dataset(original).csv', inferSchema=True, header=True)"
   ]
  },
  {
   "cell_type": "code",
   "execution_count": 40,
   "id": "f48f53d6",
   "metadata": {},
   "outputs": [
    {
     "name": "stdout",
     "output_type": "stream",
     "text": [
      "Count of values in column 'Person ID': 374\n",
      "Count of values in column 'Gender': 374\n",
      "Count of values in column 'Age': 374\n",
      "Count of values in column 'Occupation': 374\n",
      "Count of values in column 'Sleep Duration': 374\n",
      "Count of values in column 'Quality of Sleep': 374\n",
      "Count of values in column 'Physical Activity Level': 374\n",
      "Count of values in column 'Stress Level': 374\n",
      "Count of values in column 'BMI Category': 374\n",
      "Count of values in column 'Blood Pressure': 374\n",
      "Count of values in column 'Heart Rate': 374\n",
      "Count of values in column 'Daily Steps': 374\n",
      "Count of values in column 'Sleep Disorder': 374\n"
     ]
    }
   ],
   "source": [
    "#the count of values in original dataset\n",
    "for col in df_original.columns:\n",
    "    count = df_original.select(col).count()\n",
    "    print(f\"Count of values in column '{col}': {count}\")"
   ]
  },
  {
   "cell_type": "code",
   "execution_count": 41,
   "id": "0b4dd38a",
   "metadata": {},
   "outputs": [
    {
     "name": "stdout",
     "output_type": "stream",
     "text": [
      "Row(Person ID=375, Gender='Female', Age=24, Occupation='Teacher', Sleep Duration=8.199999809265137, Quality of Sleep=8, Physical Activity Level=80, Stress Level=4, BMI Category='Normal', Blood Pressure='125/80', Heart Rate=None, Daily Steps=None, Sleep Disorder='None')\n"
     ]
    }
   ],
   "source": [
    "# Show the last row in the DataFrame\n",
    "# Collect all rows into a list\n",
    "all_rows = df.collect()\n",
    "\n",
    "# Get the last row (which is the last element in the list)\n",
    "last_row = all_rows[-1]\n",
    "\n",
    "print(last_row)"
   ]
  },
  {
   "cell_type": "code",
   "execution_count": 42,
   "id": "7818a83e",
   "metadata": {},
   "outputs": [
    {
     "data": {
      "image/png": "[encoded data removed]",
      "text/plain": [
       "<Figure size 576x432 with 1 Axes>"
      ]
     },
     "metadata": {
      "needs_background": "light"
     },
     "output_type": "display_data"
    }
   ],
   "source": [
    "import pandas as pd\n",
    "\n",
    "daily_steps_series = df.select(\"Daily Steps\").toPandas()[\"Daily Steps\"]\n",
    "\n",
    "plt.figure(figsize=(8, 6))\n",
    "sns.histplot(daily_steps_series, kde=True)\n",
    "plt.xlabel('Daily Steps')\n",
    "plt.ylabel('Frequency')\n",
    "plt.title('Histogram of Daily Steps')\n",
    "plt.show()"
   ]
  },
  {
   "cell_type": "code",
   "execution_count": 43,
   "id": "65690ca4",
   "metadata": {},
   "outputs": [
    {
     "name": "stdout",
     "output_type": "stream",
     "text": [
      "root\n",
      " |-- Person ID: integer (nullable = true)\n",
      " |-- Gender: string (nullable = true)\n",
      " |-- Age: integer (nullable = true)\n",
      " |-- Occupation: string (nullable = true)\n",
      " |-- Sleep Duration: float (nullable = true)\n",
      " |-- Quality of Sleep: integer (nullable = true)\n",
      " |-- Physical Activity Level: integer (nullable = true)\n",
      " |-- Stress Level: integer (nullable = true)\n",
      " |-- BMI Category: string (nullable = true)\n",
      " |-- Blood Pressure: string (nullable = true)\n",
      " |-- Daily Steps: integer (nullable = true)\n",
      " |-- Sleep Disorder: string (nullable = true)\n",
      "\n"
     ]
    }
   ],
   "source": [
    "df_select.printSchema()"
   ]
  },
  {
   "cell_type": "code",
   "execution_count": 44,
   "id": "9c9ffd2a",
   "metadata": {},
   "outputs": [
    {
     "name": "stdout",
     "output_type": "stream",
     "text": [
      "+---------+------+---+----------+--------------+----------------+-----------------------+------------+------------+--------------+-----------+--------------+\n",
      "|Person ID|Gender|Age|Occupation|Sleep Duration|Quality of Sleep|Physical Activity Level|Stress Level|BMI Category|Blood Pressure|Daily Steps|Sleep Disorder|\n",
      "+---------+------+---+----------+--------------+----------------+-----------------------+------------+------------+--------------+-----------+--------------+\n",
      "|      375|Female| 24|   Teacher|           8.2|               8|                     80|           4|      Normal|        125/80|       6816|          None|\n",
      "+---------+------+---+----------+--------------+----------------+-----------------------+------------+------------+--------------+-----------+--------------+\n",
      "\n"
     ]
    }
   ],
   "source": [
    "from pyspark.sql.functions import mean\n",
    "\n",
    "# Calculate the mean of the 'Daily Steps' column\n",
    "mean_daily_steps = df_select.select(mean(\"Daily Steps\")).collect()[0][0]\n",
    "\n",
    "# Fill missing values in 'Daily Steps' with the mean value\n",
    "df_select = df_select.na.fill(mean_daily_steps, subset=['Daily Steps'])\n",
    "\n",
    "#show the 375th row\n",
    "row_with_id_375 = df_select.filter(df_select[\"Person ID\"] == 375)\n",
    "row_with_id_375.show()"
   ]
  },
  {
   "cell_type": "code",
   "execution_count": 45,
   "id": "2773f5c0",
   "metadata": {},
   "outputs": [
    {
     "name": "stdout",
     "output_type": "stream",
     "text": [
      "+------------+-----+\n",
      "|BMI Category|count|\n",
      "+------------+-----+\n",
      "|      Normal|  217|\n",
      "|  Overweight|  148|\n",
      "|       Obese|   10|\n",
      "+------------+-----+\n",
      "\n"
     ]
    }
   ],
   "source": [
    "from pyspark.sql.functions import when, col, trim, lower\n",
    "\n",
    "# Create a new DataFrame 'df_clean' with the updated 'BMI Category'\n",
    "df_clean = df_select.withColumn(\n",
    "    \"BMI Category\",\n",
    "    when((lower(trim(df_select[\"BMI Category\"])) == \"normal weight\") | \n",
    "         (lower(trim(df_select[\"BMI Category\"])) == \"normal\"), \"Normal\")\n",
    "    .otherwise(df_select[\"BMI Category\"])\n",
    ")\n",
    "\n",
    "# Group the data by 'BMI Category' and count the occurrences of each category\n",
    "bmi_category_counts = df_clean.groupBy('BMI Category').count().orderBy('count', ascending=False)\n",
    "\n",
    "# Show the details\n",
    "bmi_category_counts.show()"
   ]
  },
  {
   "cell_type": "markdown",
   "id": "0b867a36",
   "metadata": {},
   "source": [
    "### 3.3 Construct Data"
   ]
  },
  {
   "cell_type": "code",
   "execution_count": 46,
   "id": "3f140203",
   "metadata": {},
   "outputs": [
    {
     "name": "stdout",
     "output_type": "stream",
     "text": [
      "root\n",
      " |-- Person ID: integer (nullable = true)\n",
      " |-- Gender: string (nullable = true)\n",
      " |-- Age: integer (nullable = true)\n",
      " |-- Occupation: string (nullable = true)\n",
      " |-- Sleep Duration: float (nullable = true)\n",
      " |-- Quality of Sleep: integer (nullable = true)\n",
      " |-- Physical Activity Level: integer (nullable = true)\n",
      " |-- Stress Level: integer (nullable = true)\n",
      " |-- BMI Category: string (nullable = true)\n",
      " |-- Blood Pressure: string (nullable = true)\n",
      " |-- Daily Steps: integer (nullable = true)\n",
      " |-- Sleep Health: string (nullable = true)\n",
      "\n"
     ]
    }
   ],
   "source": [
    "# rename\n",
    "df_construct = df_clean.withColumnRenamed(\"Sleep Disorder\", \"Sleep Health\")\n",
    "\n",
    "df_construct.printSchema()"
   ]
  },
  {
   "cell_type": "code",
   "execution_count": 47,
   "id": "b8f1dddb",
   "metadata": {},
   "outputs": [
    {
     "name": "stdout",
     "output_type": "stream",
     "text": [
      "root\n",
      " |-- Person ID: integer (nullable = true)\n",
      " |-- Gender: string (nullable = true)\n",
      " |-- Age: integer (nullable = true)\n",
      " |-- Occupation: string (nullable = true)\n",
      " |-- Sleep Duration: float (nullable = true)\n",
      " |-- Quality of Sleep: integer (nullable = true)\n",
      " |-- Physical Activity Level: integer (nullable = true)\n",
      " |-- Stress Level: integer (nullable = true)\n",
      " |-- BMI Category: string (nullable = true)\n",
      " |-- Blood Pressure: string (nullable = true)\n",
      " |-- Daily Steps: integer (nullable = true)\n",
      " |-- Sleep Health: string (nullable = true)\n",
      " |-- Sleep Disorder: boolean (nullable = false)\n",
      "\n",
      "+--------------+-----+\n",
      "|Sleep Disorder|count|\n",
      "+--------------+-----+\n",
      "|         false|  220|\n",
      "|          true|  155|\n",
      "+--------------+-----+\n",
      "\n"
     ]
    }
   ],
   "source": [
    "# create new column call sleep disorder\n",
    "df_construct = df_construct.withColumn(\n",
    "    \"Sleep Disorder\",\n",
    "    when((df_construct[\"Sleep Health\"] == \"Insomnia\") | (df_construct[\"Sleep Health\"] == \"Sleep Apnea\"), True)\n",
    "    .otherwise(False)\n",
    ")\n",
    "\n",
    "#show result\n",
    "df_construct.printSchema()\n",
    "Sleep_Disorder_counts = df_construct.groupBy('Sleep Disorder').count().orderBy('count', ascending=False)\n",
    "Sleep_Disorder_counts.show()"
   ]
  },
  {
   "cell_type": "code",
   "execution_count": 48,
   "id": "feacbf72",
   "metadata": {},
   "outputs": [
    {
     "name": "stdout",
     "output_type": "stream",
     "text": [
      "root\n",
      " |-- Person ID: integer (nullable = true)\n",
      " |-- Gender: string (nullable = true)\n",
      " |-- Age: integer (nullable = true)\n",
      " |-- Occupation: string (nullable = true)\n",
      " |-- Sleep Duration: float (nullable = true)\n",
      " |-- Quality of Sleep: integer (nullable = true)\n",
      " |-- Physical Activity Level: integer (nullable = true)\n",
      " |-- Stress Level: integer (nullable = true)\n",
      " |-- BMI Category: string (nullable = true)\n",
      " |-- Blood Pressure: string (nullable = true)\n",
      " |-- Daily Steps: integer (nullable = true)\n",
      " |-- Sleep Health: string (nullable = true)\n",
      " |-- Sleep Disorder: boolean (nullable = false)\n",
      "\n",
      "+----------+-----+\n",
      "|BMI Status|count|\n",
      "+----------+-----+\n",
      "|      true|  217|\n",
      "|     false|  158|\n",
      "+----------+-----+\n",
      "\n"
     ]
    }
   ],
   "source": [
    "# create new column call BMI Status\n",
    "df_construct2 = df_construct.withColumn(\n",
    "    \"BMI Status\",\n",
    "    when((df_construct[\"BMI Category\"] == \"Normal\"), True)\n",
    "    .otherwise(False)\n",
    ")\n",
    "\n",
    "#show result\n",
    "df_construct.printSchema()\n",
    "Sleep_Disorder_counts = df_construct2.groupBy('BMI Status').count().orderBy('count', ascending=False)\n",
    "Sleep_Disorder_counts.show()"
   ]
  },
  {
   "cell_type": "markdown",
   "id": "9fbe4185",
   "metadata": {},
   "source": [
    "### 3.4 Integrate Data"
   ]
  },
  {
   "cell_type": "code",
   "execution_count": 49,
   "id": "b8b70477",
   "metadata": {},
   "outputs": [
    {
     "name": "stdout",
     "output_type": "stream",
     "text": [
      "root\n",
      " |-- Person ID: integer (nullable = true)\n",
      " |-- Gender: string (nullable = true)\n",
      " |-- Sleep Duration: float (nullable = true)\n",
      " |-- Quality of Sleep: integer (nullable = true)\n",
      " |-- Physical Activity Level: integer (nullable = true)\n",
      " |-- Stress Level: integer (nullable = true)\n",
      " |-- BMI Category: string (nullable = true)\n",
      " |-- Blood Pressure: string (nullable = true)\n",
      " |-- Daily Steps: integer (nullable = true)\n",
      " |-- Sleep Health: string (nullable = true)\n",
      " |-- Sleep Disorder: boolean (nullable = false)\n",
      " |-- BMI Status: boolean (nullable = false)\n",
      "\n",
      "+---------+------+--------------+----------------+-----------------------+------------+------------+--------------+-----------+------------+--------------+----------+\n",
      "|Person ID|Gender|Sleep Duration|Quality of Sleep|Physical Activity Level|Stress Level|BMI Category|Blood Pressure|Daily Steps|Sleep Health|Sleep Disorder|BMI Status|\n",
      "+---------+------+--------------+----------------+-----------------------+------------+------------+--------------+-----------+------------+--------------+----------+\n",
      "|        1|  Male|           6.1|               6|                     42|           6|  Overweight|        126/83|       4200|        None|         false|     false|\n",
      "+---------+------+--------------+----------------+-----------------------+------------+------------+--------------+-----------+------------+--------------+----------+\n",
      "only showing top 1 row\n",
      "\n"
     ]
    }
   ],
   "source": [
    "#create a new DataFrame 'df_select' by dropping the 'Heart Rate' column\n",
    "df_1 = df_construct2.drop('Age', 'Occupation')\n",
    "\n",
    "#show schema\n",
    "df_1.printSchema()\n",
    "df_1.show(n=1)"
   ]
  },
  {
   "cell_type": "code",
   "execution_count": 50,
   "id": "1566a0cb",
   "metadata": {},
   "outputs": [
    {
     "name": "stdout",
     "output_type": "stream",
     "text": [
      "root\n",
      " |-- Person ID: integer (nullable = true)\n",
      " |-- Age: integer (nullable = true)\n",
      " |-- Occupation: string (nullable = true)\n",
      "\n",
      "+---------+---+-----------------+\n",
      "|Person ID|Age|       Occupation|\n",
      "+---------+---+-----------------+\n",
      "|        1| 27|Software Engineer|\n",
      "+---------+---+-----------------+\n",
      "only showing top 1 row\n",
      "\n"
     ]
    }
   ],
   "source": [
    "#import original dataset\n",
    "df_demographic = spark.read.csv('Datasets/Sleep Health and Demographic.csv', inferSchema=True, header=True)\n",
    "\n",
    "#show schema\n",
    "df_demographic.printSchema()\n",
    "df_demographic.show(n=1)"
   ]
  },
  {
   "cell_type": "code",
   "execution_count": 51,
   "id": "b2f46188",
   "metadata": {},
   "outputs": [
    {
     "name": "stdout",
     "output_type": "stream",
     "text": [
      "root\n",
      " |-- Person ID: integer (nullable = true)\n",
      " |-- Gender: string (nullable = true)\n",
      " |-- Sleep Duration: float (nullable = true)\n",
      " |-- Quality of Sleep: integer (nullable = true)\n",
      " |-- Physical Activity Level: integer (nullable = true)\n",
      " |-- Stress Level: integer (nullable = true)\n",
      " |-- BMI Category: string (nullable = true)\n",
      " |-- Blood Pressure: string (nullable = true)\n",
      " |-- Daily Steps: integer (nullable = true)\n",
      " |-- Sleep Health: string (nullable = true)\n",
      " |-- Sleep Disorder: boolean (nullable = false)\n",
      " |-- BMI Status: boolean (nullable = false)\n",
      " |-- Age: integer (nullable = true)\n",
      " |-- Occupation: string (nullable = true)\n",
      "\n"
     ]
    }
   ],
   "source": [
    "#merge two datasets\n",
    "df_merged = df_1.join(df_demographic, on=\"Person ID\", how=\"inner\")\n",
    "df_merged.printSchema()"
   ]
  },
  {
   "cell_type": "code",
   "execution_count": 52,
   "id": "01e825f2",
   "metadata": {},
   "outputs": [
    {
     "name": "stdout",
     "output_type": "stream",
     "text": [
      "+-------+------------------+------+------------------+------------------+-----------------------+------------------+------------+--------------+------------------+------------+-----------------+----------+\n",
      "|summary|         Person ID|Gender|    Sleep Duration|  Quality of Sleep|Physical Activity Level|      Stress Level|BMI Category|Blood Pressure|       Daily Steps|Sleep Health|              Age|Occupation|\n",
      "+-------+------------------+------+------------------+------------------+-----------------------+------------------+------------+--------------+------------------+------------+-----------------+----------+\n",
      "|  count|               375|   375|               375|               375|                    375|               375|         375|           375|               375|         375|              375|       375|\n",
      "|   mean|             188.0|  null| 7.134933311462403| 7.314666666666667|      59.22666666666667| 5.381333333333333|        null|          null| 6816.842666666666|        null|           42.136|      null|\n",
      "| stddev|108.39741694339399|  null|0.7965036810241664|1.1958812262546714|      20.83072425730269|1.7735951986568852|        null|          null|1615.7512430625304|        null|8.712285259247578|      null|\n",
      "|    min|                 1|Female|               5.8|                 4|                     30|                 3|      Normal|        115/75|              3000|    Insomnia|               24|Accountant|\n",
      "|    max|               375|  Male|               8.5|                 9|                     90|                 8|  Overweight|        142/92|             10000| Sleep Apnea|               59|   Teacher|\n",
      "+-------+------------------+------+------------------+------------------+-----------------------+------------------+------------+--------------+------------------+------------+-----------------+----------+\n",
      "\n"
     ]
    }
   ],
   "source": [
    "df_merged.describe().show()"
   ]
  },
  {
   "cell_type": "markdown",
   "id": "23294b2f",
   "metadata": {},
   "source": [
    "### 3.5 Format Data"
   ]
  },
  {
   "cell_type": "code",
   "execution_count": 53,
   "id": "fc4913a8",
   "metadata": {},
   "outputs": [
    {
     "name": "stdout",
     "output_type": "stream",
     "text": [
      "root\n",
      " |-- Person ID: integer (nullable = true)\n",
      " |-- Gender: string (nullable = true)\n",
      " |-- Sleep Duration: float (nullable = true)\n",
      " |-- Quality of Sleep: integer (nullable = true)\n",
      " |-- Physical Activity Level: integer (nullable = true)\n",
      " |-- Stress Level: integer (nullable = true)\n",
      " |-- Blood Pressure: string (nullable = true)\n",
      " |-- Daily Steps: integer (nullable = true)\n",
      " |-- Sleep Disorder: boolean (nullable = false)\n",
      " |-- BMI Status: boolean (nullable = false)\n",
      " |-- Age: integer (nullable = true)\n",
      " |-- Occupation: string (nullable = true)\n",
      "\n"
     ]
    }
   ],
   "source": [
    "#drop BMI Category and Sleep Health\n",
    "df_formated = df_merged.drop('BMI Category', 'Sleep Health')\n",
    "df_formated.printSchema()"
   ]
  },
  {
   "cell_type": "code",
   "execution_count": 54,
   "id": "df99bffe",
   "metadata": {},
   "outputs": [
    {
     "name": "stdout",
     "output_type": "stream",
     "text": [
      "root\n",
      " |-- Person ID: integer (nullable = true)\n",
      " |-- Gender: string (nullable = true)\n",
      " |-- Sleep Duration: float (nullable = true)\n",
      " |-- Quality of Sleep: integer (nullable = true)\n",
      " |-- Physical Activity Level: integer (nullable = true)\n",
      " |-- Stress Level: integer (nullable = true)\n",
      " |-- Blood Pressure: string (nullable = true)\n",
      " |-- Daily Steps: integer (nullable = true)\n",
      " |-- Sleep Disorder: boolean (nullable = false)\n",
      " |-- BMI Status: boolean (nullable = false)\n",
      " |-- Age: integer (nullable = true)\n",
      " |-- Occupation: string (nullable = true)\n",
      " |-- Systolic: integer (nullable = true)\n",
      " |-- Diastolic: integer (nullable = true)\n",
      "\n",
      "+---------+------+--------------+----------------+-----------------------+------------+--------------+-----------+--------------+----------+---+-----------------+--------+---------+\n",
      "|Person ID|Gender|Sleep Duration|Quality of Sleep|Physical Activity Level|Stress Level|Blood Pressure|Daily Steps|Sleep Disorder|BMI Status|Age|       Occupation|Systolic|Diastolic|\n",
      "+---------+------+--------------+----------------+-----------------------+------------+--------------+-----------+--------------+----------+---+-----------------+--------+---------+\n",
      "|        1|  Male|           6.1|               6|                     42|           6|        126/83|       4200|         false|     false| 27|Software Engineer|     126|       83|\n",
      "+---------+------+--------------+----------------+-----------------------+------------+--------------+-----------+--------------+----------+---+-----------------+--------+---------+\n",
      "only showing top 1 row\n",
      "\n"
     ]
    }
   ],
   "source": [
    "from pyspark.sql.functions import split\n",
    "\n",
    "# Split the 'Blood Pressure' column into 'Systolic' and 'Diastolic' columns\n",
    "df_formated2 = df_formated.withColumn('Systolic', split(df['Blood Pressure'], '/')[0].cast('integer'))\n",
    "df_formated3 = df_formated2.withColumn('Diastolic', split(df['Blood Pressure'], '/')[1].cast('integer'))\n",
    "\n",
    "# Show the DataFrame with the new columns\n",
    "df_formated3 .printSchema()\n",
    "df_formated3.show(n=1)"
   ]
  },
  {
   "cell_type": "code",
   "execution_count": 55,
   "id": "c6846061",
   "metadata": {},
   "outputs": [
    {
     "name": "stdout",
     "output_type": "stream",
     "text": [
      "root\n",
      " |-- Person ID: integer (nullable = true)\n",
      " |-- Gender: string (nullable = true)\n",
      " |-- Sleep Duration: float (nullable = true)\n",
      " |-- Quality of Sleep: integer (nullable = true)\n",
      " |-- Physical Activity Level: integer (nullable = true)\n",
      " |-- Stress Level: integer (nullable = true)\n",
      " |-- Daily Steps: integer (nullable = true)\n",
      " |-- Sleep Disorder: boolean (nullable = false)\n",
      " |-- BMI Status: boolean (nullable = false)\n",
      " |-- Age: integer (nullable = true)\n",
      " |-- Occupation: string (nullable = true)\n",
      " |-- Systolic: integer (nullable = true)\n",
      " |-- Diastolic: integer (nullable = true)\n",
      "\n"
     ]
    }
   ],
   "source": [
    "df_formated4 = df_formated3.drop('Blood Pressure')\n",
    "df_formated4.printSchema()"
   ]
  },
  {
   "cell_type": "markdown",
   "id": "a34dec52",
   "metadata": {},
   "source": [
    "## 4.0 DataTransformation"
   ]
  },
  {
   "cell_type": "markdown",
   "id": "ba2b4fde",
   "metadata": {},
   "source": [
    "### 4.1 Reduce the data (feature seleciton)"
   ]
  },
  {
   "cell_type": "code",
   "execution_count": 56,
   "id": "a6f35ffd",
   "metadata": {},
   "outputs": [
    {
     "name": "stdout",
     "output_type": "stream",
     "text": [
      "+---------+------+--------------+----------------+-----------------------+------------+-----------+--------------+----------+---+-----------------+--------+---------+-----------+-------------+---------------+\n",
      "|Person ID|Gender|Sleep Duration|Quality of Sleep|Physical Activity Level|Stress Level|Daily Steps|Sleep Disorder|BMI Status|Age|       Occupation|Systolic|Diastolic|GenderIndex|    GenderVec|OccupationIndex|\n",
      "+---------+------+--------------+----------------+-----------------------+------------+-----------+--------------+----------+---+-----------------+--------+---------+-----------+-------------+---------------+\n",
      "|        1|  Male|           6.1|               6|                     42|           6|       4200|         false|     false| 27|Software Engineer|     126|       83|        0.0|(1,[0],[1.0])|            8.0|\n",
      "+---------+------+--------------+----------------+-----------------------+------------+-----------+--------------+----------+---+-----------------+--------+---------+-----------+-------------+---------------+\n",
      "only showing top 1 row\n",
      "\n",
      "root\n",
      " |-- Person ID: integer (nullable = true)\n",
      " |-- Gender: string (nullable = true)\n",
      " |-- Sleep Duration: float (nullable = true)\n",
      " |-- Quality of Sleep: integer (nullable = true)\n",
      " |-- Physical Activity Level: integer (nullable = true)\n",
      " |-- Stress Level: integer (nullable = true)\n",
      " |-- Daily Steps: integer (nullable = true)\n",
      " |-- Sleep Disorder: boolean (nullable = false)\n",
      " |-- BMI Status: boolean (nullable = false)\n",
      " |-- Age: integer (nullable = true)\n",
      " |-- Occupation: string (nullable = true)\n",
      " |-- Systolic: integer (nullable = true)\n",
      " |-- Diastolic: integer (nullable = true)\n",
      " |-- GenderIndex: double (nullable = false)\n",
      " |-- GenderVec: vector (nullable = true)\n",
      " |-- OccupationIndex: double (nullable = false)\n",
      "\n"
     ]
    }
   ],
   "source": [
    "# Define the stages of the transformation pipeline\n",
    "# 1.transform 'Gender' using one-hot encoding\n",
    "gender_indexer = StringIndexer(inputCol=\"Gender\", outputCol=\"GenderIndex\")\n",
    "gender_encoder = OneHotEncoder(inputCol=\"GenderIndex\", outputCol=\"GenderVec\")\n",
    "\n",
    "# 2.transform 'Occupation' using label encoding\n",
    "occupation_indexer = StringIndexer(inputCol=\"Occupation\", outputCol=\"OccupationIndex\")\n",
    "\n",
    "# Assemble the transformation stages into a pipeline\n",
    "pipeline = Pipeline(stages=[gender_indexer, gender_encoder, occupation_indexer])\n",
    "\n",
    "# Fit and transform the data using the pipeline\n",
    "df_trans = pipeline.fit(df_formated4).transform(df_formated4)\n",
    "\n",
    "# Show the transformed DataFrame\n",
    "df_trans.show(n=1)\n",
    "df_trans.printSchema()"
   ]
  },
  {
   "cell_type": "code",
   "execution_count": 57,
   "id": "a992b590",
   "metadata": {},
   "outputs": [
    {
     "name": "stdout",
     "output_type": "stream",
     "text": [
      "+------+-----------+\n",
      "|Gender|GenderIndex|\n",
      "+------+-----------+\n",
      "|  Male|        0.0|\n",
      "|Female|        1.0|\n",
      "+------+-----------+\n",
      "\n",
      "+--------------------+---------------+\n",
      "|          Occupation|OccupationIndex|\n",
      "+--------------------+---------------+\n",
      "|           Scientist|            7.0|\n",
      "|             Teacher|            4.0|\n",
      "|             Manager|           10.0|\n",
      "|              Doctor|            1.0|\n",
      "|   Software Engineer|            8.0|\n",
      "|              Lawyer|            3.0|\n",
      "|         Salesperson|            6.0|\n",
      "|Sales Representative|            9.0|\n",
      "|            Engineer|            2.0|\n",
      "|          Accountant|            5.0|\n",
      "|               Nurse|            0.0|\n",
      "+--------------------+---------------+\n",
      "\n"
     ]
    }
   ],
   "source": [
    "# Extract the mapping of numerical values to original categories\n",
    "gender_mapping = df_trans.select(\"Gender\", \"GenderIndex\").distinct()\n",
    "occupation_mapping = df_trans.select(\"Occupation\", \"OccupationIndex\").distinct()\n",
    "\n",
    "# Show the mappings\n",
    "gender_mapping.show()\n",
    "occupation_mapping.show()"
   ]
  },
  {
   "cell_type": "code",
   "execution_count": 58,
   "id": "d5d16173",
   "metadata": {},
   "outputs": [
    {
     "name": "stdout",
     "output_type": "stream",
     "text": [
      "root\n",
      " |-- Person ID: integer (nullable = true)\n",
      " |-- Sleep Duration: float (nullable = true)\n",
      " |-- Quality of Sleep: integer (nullable = true)\n",
      " |-- Physical Activity Level: integer (nullable = true)\n",
      " |-- Stress Level: integer (nullable = true)\n",
      " |-- Daily Steps: integer (nullable = true)\n",
      " |-- Sleep Disorder: boolean (nullable = false)\n",
      " |-- BMI Status: boolean (nullable = false)\n",
      " |-- Age: integer (nullable = true)\n",
      " |-- Systolic: integer (nullable = true)\n",
      " |-- Diastolic: integer (nullable = true)\n",
      " |-- GenderIndex: double (nullable = false)\n",
      " |-- OccupationIndex: double (nullable = false)\n",
      "\n"
     ]
    }
   ],
   "source": [
    "#drop extra columns\n",
    "df_trans2 = df_trans.drop('Gender', 'GenderVec', 'Occupation')\n",
    "df_trans2.printSchema()"
   ]
  },
  {
   "cell_type": "code",
   "execution_count": 59,
   "id": "c46a648f",
   "metadata": {},
   "outputs": [],
   "source": [
    "# Encode \"Sleep Disorder\" as 0 for False and 1 for True\n",
    "df_trans3 = df_trans2.withColumn(\n",
    "    \"Sleep Disorder\",\n",
    "    when(df_trans2[\"Sleep Disorder\"] == True, 1).otherwise(0)\n",
    ")\n",
    "\n",
    "# Encode \"BMI Status\" as 0 for False and 1 for True\n",
    "df_trans4 = df_trans3.withColumn(\n",
    "    \"BMI Status\",\n",
    "    when(df_trans3[\"BMI Status\"] == True, 1).otherwise(0)\n",
    ")"
   ]
  },
  {
   "cell_type": "code",
   "execution_count": 60,
   "id": "94b08b67",
   "metadata": {},
   "outputs": [
    {
     "name": "stdout",
     "output_type": "stream",
     "text": [
      "root\n",
      " |-- Person ID: integer (nullable = true)\n",
      " |-- Sleep Duration: float (nullable = true)\n",
      " |-- Quality of Sleep: integer (nullable = true)\n",
      " |-- Physical Activity Level: integer (nullable = true)\n",
      " |-- Stress Level: integer (nullable = true)\n",
      " |-- Daily Steps: integer (nullable = true)\n",
      " |-- Sleep Disorder: integer (nullable = false)\n",
      " |-- BMI Status: integer (nullable = false)\n",
      " |-- Age: integer (nullable = true)\n",
      " |-- Systolic: integer (nullable = true)\n",
      " |-- Diastolic: integer (nullable = true)\n",
      " |-- GenderIndex: double (nullable = false)\n",
      " |-- OccupationIndex: double (nullable = false)\n",
      "\n"
     ]
    }
   ],
   "source": [
    "df_trans4.printSchema()"
   ]
  },
  {
   "cell_type": "code",
   "execution_count": 61,
   "id": "b9c38d60",
   "metadata": {},
   "outputs": [
    {
     "name": "stdout",
     "output_type": "stream",
     "text": [
      "Feature: BMI Status, Importance: 0.46724252805583416\n",
      "Feature: OccupationIndex, Importance: 0.14960020228122622\n",
      "Feature: Systolic, Importance: 0.14487891548839896\n",
      "Feature: Diastolic, Importance: 0.10780478253579244\n",
      "Feature: Sleep Duration, Importance: 0.03723238548907461\n",
      "Feature: Daily Steps, Importance: 0.02997025324498736\n",
      "Feature: Age, Importance: 0.025839029436769557\n",
      "Feature: Quality of Sleep, Importance: 0.015307615566873895\n",
      "Feature: Person ID, Importance: 0.010151275880724533\n",
      "Feature: Stress Level, Importance: 0.008924750228260708\n",
      "Feature: Physical Activity Level, Importance: 0.003048261792057549\n",
      "Feature: GenderIndex, Importance: 0.0\n"
     ]
    }
   ],
   "source": [
    "from pyspark.ml.feature import VectorAssembler\n",
    "from pyspark.ml.classification import RandomForestClassifier\n",
    "\n",
    "# 1. Assemble Features\n",
    "feature_columns = [\"Sleep Duration\", \"Quality of Sleep\", \"Physical Activity Level\", \"Stress Level\",\n",
    "                   \"Daily Steps\", \"Age\", \"Systolic\", \"Diastolic\", \"GenderIndex\", \"OccupationIndex\",\n",
    "                   \"BMI Status\", \"Person ID\"]\n",
    "\n",
    "vec_assembler = VectorAssembler(inputCols=feature_columns, outputCol=\"features\")\n",
    "df_assembled = vec_assembler.transform(df_trans4)\n",
    "\n",
    "# 2. Train a Random Forest Classifier\n",
    "rf = RandomForestClassifier(featuresCol=\"features\", labelCol=\"Sleep Disorder\")\n",
    "rf_model = rf.fit(df_assembled)\n",
    "\n",
    "# 3. Extract Feature Importance\n",
    "feature_importances = rf_model.featureImportances\n",
    "\n",
    "# Create a list of (feature, importance) pairs\n",
    "feature_importance_pairs = list(zip(feature_columns, feature_importances))\n",
    "\n",
    "# Sort the pairs by importance in descending order\n",
    "sorted_feature_importance_pairs = sorted(feature_importance_pairs, key=lambda x: x[1], reverse=True)\n",
    "\n",
    "# Print the sorted features and their importance\n",
    "for feature, importance in sorted_feature_importance_pairs:\n",
    "    print(f\"Feature: {feature}, Importance: {importance}\")"
   ]
  },
  {
   "cell_type": "code",
   "execution_count": 62,
   "id": "32e44405",
   "metadata": {},
   "outputs": [
    {
     "name": "stdout",
     "output_type": "stream",
     "text": [
      "root\n",
      " |-- BMI Status: integer (nullable = false)\n",
      " |-- OccupationIndex: double (nullable = false)\n",
      " |-- Diastolic: integer (nullable = true)\n",
      " |-- Systolic: integer (nullable = true)\n",
      " |-- Age: integer (nullable = true)\n",
      " |-- Sleep Duration: float (nullable = true)\n",
      " |-- Daily Steps: integer (nullable = true)\n",
      " |-- Sleep Disorder: integer (nullable = false)\n",
      "\n"
     ]
    }
   ],
   "source": [
    "#select features\n",
    "#select the desired columns\n",
    "selected_columns = [\"BMI Status\", \"OccupationIndex\", \"Diastolic\", \"Systolic\", \"Age\", \n",
    "                    \"Sleep Duration\", \"Daily Steps\", \"Sleep Disorder\"]\n",
    "\n",
    "#create the new DataFrame df_selected\n",
    "df_selected = df_trans4.select(selected_columns)\n",
    "\n",
    "#verify the schema of df_selected\n",
    "df_selected.printSchema()"
   ]
  },
  {
   "cell_type": "markdown",
   "id": "23c62a30",
   "metadata": {},
   "source": [
    "### 4.2 Project Data"
   ]
  },
  {
   "cell_type": "code",
   "execution_count": 63,
   "id": "2efebbe4",
   "metadata": {},
   "outputs": [
    {
     "name": "stdout",
     "output_type": "stream",
     "text": [
      "+--------------+-----+\n",
      "|Sleep Disorder|count|\n",
      "+--------------+-----+\n",
      "|             1|  155|\n",
      "|             0|  220|\n",
      "+--------------+-----+\n",
      "\n"
     ]
    }
   ],
   "source": [
    "#count Sleep Disorder\n",
    "#group by the \"Sleep Disorder\" column and count occurrences of each parameter\n",
    "sleep_disorder_counts = df_selected.groupBy(\"Sleep Disorder\").count()\n",
    "\n",
    "# Show the parameters and their counts\n",
    "sleep_disorder_counts.show()"
   ]
  },
  {
   "cell_type": "code",
   "execution_count": 64,
   "id": "9d735638",
   "metadata": {},
   "outputs": [
    {
     "name": "stdout",
     "output_type": "stream",
     "text": [
      "+--------------+-----+\n",
      "|Sleep Disorder|count|\n",
      "+--------------+-----+\n",
      "|             0|  220|\n",
      "|             1|  217|\n",
      "+--------------+-----+\n",
      "\n"
     ]
    }
   ],
   "source": [
    "# Separate the DataFrame into two DataFrames for each class\n",
    "df_class_0 = df_selected.filter(col(\"Sleep Disorder\") == 0)\n",
    "df_class_1 = df_selected.filter(col(\"Sleep Disorder\") == 1)\n",
    "\n",
    "# Calculate the oversampling ratio\n",
    "class_0_count = df_class_0.count()\n",
    "class_1_count = df_class_1.count()\n",
    "oversampling_ratio = class_0_count / class_1_count\n",
    "\n",
    "# Oversample the minority class (1)\n",
    "df_class_1_oversampled = df_class_1.sample(withReplacement=True, fraction=oversampling_ratio, seed=42)\n",
    "\n",
    "# Concatenate the oversampled minority class with the majority class\n",
    "df_balanced = df_class_0.union(df_class_1_oversampled)\n",
    "\n",
    "# Verify the count of each class in the balanced DataFrame\n",
    "df_balanced.groupBy(\"Sleep Disorder\").count().show()\n"
   ]
  },
  {
   "cell_type": "code",
   "execution_count": 65,
   "id": "b491fd5a",
   "metadata": {},
   "outputs": [
    {
     "data": {
      "image/png": "[encoded data removed]",
      "text/plain": [
       "<Figure size 576x432 with 1 Axes>"
      ]
     },
     "metadata": {
      "needs_background": "light"
     },
     "output_type": "display_data"
    },
    {
     "data": {
      "image/png": "[encoded data removed]",
      "text/plain": [
       "<Figure size 576x432 with 1 Axes>"
      ]
     },
     "metadata": {
      "needs_background": "light"
     },
     "output_type": "display_data"
    }
   ],
   "source": [
    "# Create a histogram for 'Sleep Disorder' distribution in df_selected\n",
    "plt.figure(figsize=(8, 6))\n",
    "plt.hist(df_selected.select(\"Sleep Disorder\").rdd.flatMap(lambda x: x).collect(), bins=[-0.1, 0.1, 0.9, 1.1], alpha=0.7, color='blue', label='df_selected')\n",
    "plt.xticks([0, 1])  # Set x-axis ticks to display only 0 and 1\n",
    "plt.xlabel(\"Sleep Disorder\")\n",
    "plt.ylabel(\"Frequency\")\n",
    "plt.title(\"Distribution of Sleep Disorder in df_selected\")\n",
    "plt.legend()\n",
    "plt.show()\n",
    "\n",
    "# Create a histogram for 'Sleep Disorder' distribution in df_balanced\n",
    "plt.figure(figsize=(8, 6))\n",
    "plt.hist(df_balanced.select(\"Sleep Disorder\").rdd.flatMap(lambda x: x).collect(), bins=[-0.1, 0.1, 0.9, 1.1], alpha=0.7, color='green', label='df_balanced')\n",
    "plt.xticks([0, 1])  # Set x-axis ticks to display only 0 and 1\n",
    "plt.xlabel(\"Sleep Disorder\")\n",
    "plt.ylabel(\"Frequency\")\n",
    "plt.title(\"Distribution of Sleep Disorder in df_balanced\")\n",
    "plt.legend()\n",
    "plt.show()"
   ]
  },
  {
   "cell_type": "markdown",
   "id": "4cb9e7af",
   "metadata": {},
   "source": [
    "## 5.0 Data Mining Selection"
   ]
  },
  {
   "cell_type": "markdown",
   "id": "184334af",
   "metadata": {},
   "source": [
    "### 5.1"
   ]
  },
  {
   "cell_type": "code",
   "execution_count": 66,
   "id": "34d740c6",
   "metadata": {},
   "outputs": [
    {
     "name": "stdout",
     "output_type": "stream",
     "text": [
      "root\n",
      " |-- BMI Status: integer (nullable = false)\n",
      " |-- OccupationIndex: double (nullable = false)\n",
      " |-- Diastolic: integer (nullable = true)\n",
      " |-- Systolic: integer (nullable = true)\n",
      " |-- Age: integer (nullable = true)\n",
      " |-- Sleep Duration: float (nullable = true)\n",
      " |-- Daily Steps: integer (nullable = true)\n",
      " |-- Sleep Disorder: integer (nullable = false)\n",
      "\n",
      "Number of samples in the training set: 437\n"
     ]
    }
   ],
   "source": [
    "df_balanced.printSchema()\n",
    "\n",
    "df_balanced_count = df_balanced.count()\n",
    "print(f\"Number of samples in the training set: {df_balanced_count}\")"
   ]
  },
  {
   "cell_type": "markdown",
   "id": "ebadc950",
   "metadata": {},
   "source": [
    "## 7.0 Data mining"
   ]
  },
  {
   "cell_type": "markdown",
   "id": "fe0ad8dc",
   "metadata": {},
   "source": [
    "### Single Decision Tree model "
   ]
  },
  {
   "cell_type": "code",
   "execution_count": 67,
   "id": "6f08f566",
   "metadata": {},
   "outputs": [],
   "source": [
    "#import library for decision tree classifier\n",
    "from pyspark.ml.feature import VectorAssembler\n",
    "from pyspark.ml.classification import DecisionTreeClassifier\n",
    "from pyspark.ml.evaluation import BinaryClassificationEvaluator"
   ]
  },
  {
   "cell_type": "code",
   "execution_count": 68,
   "id": "efb56ac3",
   "metadata": {},
   "outputs": [],
   "source": [
    "# Define the feature columns (excluding the target column)\n",
    "feature_columns = ['BMI Status', 'OccupationIndex', 'Diastolic', 'Systolic', 'Age', 'Sleep Duration', 'Daily Steps']\n",
    "\n",
    "# Create a VectorAssembler to assemble the feature columns into a single feature vector\n",
    "vector_assembler = VectorAssembler(inputCols=feature_columns, outputCol='features')\n",
    "df_assembled = vector_assembler.transform(df_balanced)"
   ]
  },
  {
   "cell_type": "code",
   "execution_count": 69,
   "id": "23c6d4ba",
   "metadata": {},
   "outputs": [],
   "source": [
    "# Split the data into 80% training and 20% testing\n",
    "(training_data, test_data) = df_assembled.randomSplit([0.8, 0.2], seed=42)"
   ]
  },
  {
   "cell_type": "code",
   "execution_count": 70,
   "id": "a9166d84",
   "metadata": {},
   "outputs": [],
   "source": [
    "# Create the Decision Tree classifier\n",
    "dt = DecisionTreeClassifier(labelCol='Sleep Disorder', featuresCol='features', seed=42)\n",
    "\n",
    "# Train the model\n",
    "dt_model = dt.fit(training_data)"
   ]
  },
  {
   "cell_type": "code",
   "execution_count": 71,
   "id": "6edceb17",
   "metadata": {},
   "outputs": [],
   "source": [
    "# Make predictions on the test data\n",
    "predictions = dt_model.transform(test_data)"
   ]
  },
  {
   "cell_type": "code",
   "execution_count": 72,
   "id": "b0b5f05a",
   "metadata": {},
   "outputs": [
    {
     "name": "stdout",
     "output_type": "stream",
     "text": [
      "AUC: 0.90406162464986\n"
     ]
    }
   ],
   "source": [
    "# Evaluate the model using BinaryClassificationEvaluator\n",
    "evaluator = BinaryClassificationEvaluator(labelCol='Sleep Disorder', metricName='areaUnderROC')\n",
    "auc = evaluator.evaluate(predictions)\n",
    "print(f\"AUC: {auc}\")"
   ]
  },
  {
   "cell_type": "code",
   "execution_count": 73,
   "id": "27e985fb",
   "metadata": {},
   "outputs": [],
   "source": [
    "from pyspark.ml.evaluation import MulticlassClassificationEvaluator\n",
    "\n",
    "# Create a MulticlassClassificationEvaluator\n",
    "evaluator_multiclass = MulticlassClassificationEvaluator(\n",
    "    labelCol='Sleep Disorder', \n",
    "    predictionCol='prediction', \n",
    "    metricName='accuracy'  # You can choose other metrics like 'accuracy', 'weightedPrecision', 'weightedRecall', etc.\n",
    ")"
   ]
  },
  {
   "cell_type": "code",
   "execution_count": 74,
   "id": "93458990",
   "metadata": {},
   "outputs": [
    {
     "name": "stdout",
     "output_type": "stream",
     "text": [
      "The Single Decision Tree Model has an accuracy of: 92.11%\n"
     ]
    }
   ],
   "source": [
    "# Calculate the evaluation metric\n",
    "accuracy_score = evaluator_multiclass.evaluate(predictions)\n",
    "print('The Single Decision Tree Model has an accuracy of: {0:2.2f}%'.format(accuracy_score*100))"
   ]
  },
  {
   "cell_type": "code",
   "execution_count": 75,
   "id": "175dfdd1",
   "metadata": {},
   "outputs": [
    {
     "name": "stdout",
     "output_type": "stream",
     "text": [
      "Number of samples in the training set: 361\n",
      "Number of samples in the testing set: 76\n"
     ]
    }
   ],
   "source": [
    "# Count the number of samples in the training set\n",
    "training_count = training_data.count()\n",
    "print(f\"Number of samples in the training set: {training_count}\")\n",
    "\n",
    "# Count the number of samples in the testing set\n",
    "testing_count = test_data.count()\n",
    "print(f\"Number of samples in the testing set: {testing_count}\")"
   ]
  },
  {
   "cell_type": "markdown",
   "id": "7865535c",
   "metadata": {},
   "source": [
    "### K-means"
   ]
  },
  {
   "cell_type": "code",
   "execution_count": 76,
   "id": "b0a3244d",
   "metadata": {},
   "outputs": [],
   "source": [
    "#import library\n",
    "from pyspark.ml.clustering import KMeans"
   ]
  },
  {
   "cell_type": "code",
   "execution_count": 85,
   "id": "60f0baa9",
   "metadata": {},
   "outputs": [],
   "source": [
    "# Select the relevant columns for your K-means model\n",
    "selected_columns_K = [\"BMI Status\", \"OccupationIndex\", \"Diastolic\", \"Systolic\", \"Age\", \n",
    "                      \"Sleep Duration\", \"Daily Steps\", \"Sleep Disorder\"]\n",
    "\n",
    "# Create a VectorAssembler to combine selected columns into a feature vector\n",
    "assembler_K = VectorAssembler(inputCols=selected_columns, outputCol=\"features\")\n",
    "df_assembled_K = assembler_K.transform(df_balanced)\n"
   ]
  },
  {
   "cell_type": "code",
   "execution_count": 86,
   "id": "056bc0b1",
   "metadata": {},
   "outputs": [
    {
     "name": "stdout",
     "output_type": "stream",
     "text": [
      "best K is:  10  score:  0.9823392266596155\n"
     ]
    }
   ],
   "source": [
    "#find the best optimal k\n",
    "from pyspark.ml.evaluation import ClusteringEvaluator\n",
    "\n",
    "silhouette_scores = []\n",
    "for k in range(2, 11):\n",
    "    kmeans = KMeans(k=k, seed=42)\n",
    "    model = kmeans.fit(df_assembled_K)\n",
    "    predictions_K = model.transform(df_assembled_K)\n",
    "    evaluator = ClusteringEvaluator()\n",
    "    silhouette_score = evaluator.evaluate(predictions_K)\n",
    "    silhouette_scores.append(silhouette_score)\n",
    "\n",
    "best_k = silhouette_scores.index(max(silhouette_scores)) + 2  # +2 because we started from k=2\n",
    "print(\"best K is: \", best_k, \" score: \", max(silhouette_scores))"
   ]
  },
  {
   "cell_type": "code",
   "execution_count": 87,
   "id": "b1447bc6",
   "metadata": {},
   "outputs": [],
   "source": [
    "#Create a K-Means model\n",
    "kmeans = KMeans(k=10, seed=42)  \n",
    "\n",
    "#Fit the K-Means model to the data\n",
    "model_K = kmeans.fit(df_assembled_K)"
   ]
  },
  {
   "cell_type": "code",
   "execution_count": 88,
   "id": "fde77c4d",
   "metadata": {},
   "outputs": [],
   "source": [
    "#Make predictions using the model\n",
    "predictions_K = model_K.transform(df_assembled_K)"
   ]
  },
  {
   "cell_type": "code",
   "execution_count": 89,
   "id": "d94b9291",
   "metadata": {},
   "outputs": [
    {
     "name": "stdout",
     "output_type": "stream",
     "text": [
      "+--------------------+----------+\n",
      "|            features|prediction|\n",
      "+--------------------+----------+\n",
      "|[0.0,8.0,83.0,126...|         7|\n",
      "|[1.0,1.0,80.0,125...|         2|\n",
      "|[1.0,1.0,80.0,125...|         2|\n",
      "|[1.0,1.0,80.0,120...|         1|\n",
      "|[1.0,1.0,80.0,120...|         1|\n",
      "|[1.0,1.0,80.0,120...|         1|\n",
      "|[1.0,1.0,80.0,120...|         1|\n",
      "|[1.0,1.0,80.0,120...|         1|\n",
      "|[1.0,1.0,80.0,120...|         1|\n",
      "|[1.0,1.0,80.0,120...|         1|\n",
      "|[1.0,1.0,80.0,120...|         1|\n",
      "|[1.0,1.0,80.0,120...|         1|\n",
      "|[1.0,1.0,80.0,120...|         1|\n",
      "|[1.0,1.0,80.0,120...|         1|\n",
      "|[1.0,1.0,80.0,120...|         1|\n",
      "|[1.0,1.0,80.0,120...|         1|\n",
      "|[1.0,1.0,80.0,120...|         1|\n",
      "|[1.0,1.0,80.0,120...|         1|\n",
      "|[1.0,1.0,80.0,120...|         1|\n",
      "|[1.0,1.0,80.0,120...|         1|\n",
      "+--------------------+----------+\n",
      "only showing top 20 rows\n",
      "\n",
      "Cluster Centers:\n",
      "[2.02020202e-02 4.89898990e+00 8.70202020e+01 1.31929293e+02\n",
      " 4.45050505e+01 6.53636365e+00 6.00202020e+03 9.19191919e-01]\n",
      "[1.00000000e+00 2.16037736e+00 8.29245283e+01 1.25849057e+02\n",
      " 3.64056604e+01 7.50283017e+00 8.00000000e+03 1.22641509e-01]\n",
      "[8.69565217e-02 8.69565217e-02 9.34782609e+01 1.38391304e+02\n",
      " 4.90869565e+01 6.16086949e+00 1.00000000e+04 8.69565217e-01]\n",
      "[0.00000000e+00 2.75000000e+00 9.03125000e+01 1.39250000e+02\n",
      " 4.08750000e+01 7.14375016e+00 3.38750000e+03 1.00000000e+00]\n",
      "[8.73239437e-01 1.67605634e+00 8.11830986e+01 1.26183099e+02\n",
      " 4.33521127e+01 7.36056333e+00 4.99718310e+03 1.40845070e-01]\n",
      "[4.67532468e-01 2.10389610e+00 8.56883117e+01 1.28428571e+02\n",
      " 4.78051948e+01 7.68701296e+00 6.98981818e+03 4.80519481e-01]\n",
      "[1.66666667e-01 5.83333333e+00 8.41666667e+01 1.27500000e+02\n",
      " 3.66666667e+01 6.59999990e+00 5.53333333e+03 0.00000000e+00]\n",
      "[5.000e-01 1.500e+00 8.575e+01 1.300e+02 3.250e+01 6.375e+00 4.075e+03\n",
      " 7.500e-01]\n",
      "[1.0000000e+00 5.0000000e+00 7.7500000e+01 1.1700000e+02 3.9500000e+01\n",
      " 7.5999999e+00 7.4000000e+03 0.0000000e+00]\n",
      "[0.00000000e+00 7.00000000e+00 8.60000000e+01 1.31000000e+02\n",
      " 3.40000000e+01 5.80000019e+00 5.20000000e+03 1.00000000e+00]\n"
     ]
    }
   ],
   "source": [
    "#View the clustering results\n",
    "predictions_K.select(\"features\", \"prediction\").show()\n",
    "\n",
    "#Show the cluster centers\n",
    "print(\"Cluster Centers:\")\n",
    "centers = model_K.clusterCenters()\n",
    "for center in centers:\n",
    "    print(center)"
   ]
  },
  {
   "cell_type": "code",
   "execution_count": 90,
   "id": "3bbfb321",
   "metadata": {},
   "outputs": [
    {
     "name": "stdout",
     "output_type": "stream",
     "text": [
      "+----------+-----+\n",
      "|prediction|count|\n",
      "+----------+-----+\n",
      "|         1|  106|\n",
      "|         6|    6|\n",
      "|         5|   77|\n",
      "|         4|   71|\n",
      "|         8|    4|\n",
      "|         7|    8|\n",
      "|         2|   46|\n",
      "|         0|   99|\n",
      "|         3|   16|\n",
      "|         9|    4|\n",
      "+----------+-----+\n",
      "\n"
     ]
    }
   ],
   "source": [
    "#counts in different prediction group\n",
    "cluster_counts = predictions_K.groupBy(\"prediction\").count()\n",
    "cluster_counts.show()"
   ]
  },
  {
   "cell_type": "code",
   "execution_count": null,
   "id": "8a874d10",
   "metadata": {},
   "outputs": [],
   "source": []
  }
 ],
 "metadata": {
  "kernelspec": {
   "display_name": "Python 3 (ipykernel)",
   "language": "python",
   "name": "python3"
  },
  "language_info": {
   "codemirror_mode": {
    "name": "ipython",
    "version": 3
   },
   "file_extension": ".py",
   "mimetype": "text/x-python",
   "name": "python",
   "nbconvert_exporter": "python",
   "pygments_lexer": "ipython3",
   "version": "3.10.12"
  }
 },
 "nbformat": 4,
 "nbformat_minor": 5
}
