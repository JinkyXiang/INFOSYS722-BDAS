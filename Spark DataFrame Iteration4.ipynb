{
 "cells": [
  {
   "cell_type": "markdown",
   "id": "d841d491",
   "metadata": {},
   "source": [
    "# Iteration4 BDAS"
   ]
  },
  {
   "cell_type": "markdown",
   "id": "05b69a6b",
   "metadata": {},
   "source": [
    "## 1.0 BU\n",
    "Refer to Report\n",
    "## 2.0 DU\n",
    "### 2.1 Collect initial data"
   ]
  },
  {
   "cell_type": "code",
   "execution_count": 1,
   "id": "ff21ffad",
   "metadata": {},
   "outputs": [
    {
     "name": "stderr",
     "output_type": "stream",
     "text": [
      "WARNING: An illegal reflective access operation has occurred\n",
      "WARNING: Illegal reflective access by org.apache.spark.unsafe.Platform (file:/home/ubuntu/spark-3.2.1-bin-hadoop2.7/jars/spark-unsafe_2.12-3.2.1.jar) to constructor java.nio.DirectByteBuffer(long,int)\n",
      "WARNING: Please consider reporting this to the maintainers of org.apache.spark.unsafe.Platform\n",
      "WARNING: Use --illegal-access=warn to enable warnings of further illegal reflective access operations\n",
      "WARNING: All illegal access operations will be denied in a future release\n",
      "Using Spark's default log4j profile: org/apache/spark/log4j-defaults.properties\n",
      "Setting default log level to \"WARN\".\n",
      "To adjust logging level use sc.setLogLevel(newLevel). For SparkR, use setLogLevel(newLevel).\n",
      "23/10/03 00:19:06 WARN NativeCodeLoader: Unable to load native-hadoop library for your platform... using builtin-java classes where applicable\n"
     ]
    }
   ],
   "source": [
    "# Must be included at the beginning of each new notebook. Remember to change the app name.\n",
    "import findspark\n",
    "findspark.init('/home/ubuntu/spark-3.2.1-bin-hadoop2.7')\n",
    "import pyspark\n",
    "from pyspark.sql import SparkSession\n",
    "spark = SparkSession.builder.appName('Iteration4').getOrCreate()"
   ]
  },
  {
   "cell_type": "code",
   "execution_count": 5,
   "id": "5413291f",
   "metadata": {},
   "outputs": [],
   "source": [
    "# Importing data which has a header. Schema is automatically configured.\n",
    "df = spark.read.csv('Datasets/Sleep_health_and_lifestyle_dataset(with_dirt).csv', header=True)"
   ]
  },
  {
   "cell_type": "markdown",
   "id": "161fdfde",
   "metadata": {},
   "source": [
    "### 2.2 Describe the data"
   ]
  },
  {
   "cell_type": "code",
   "execution_count": 10,
   "id": "01b3e2c5",
   "metadata": {},
   "outputs": [
    {
     "name": "stdout",
     "output_type": "stream",
     "text": [
      "+---------+------+---+--------------------+--------------+----------------+-----------------------+------------+------------+--------------+----------+-----------+--------------+\n",
      "|Person ID|Gender|Age|          Occupation|Sleep Duration|Quality of Sleep|Physical Activity Level|Stress Level|BMI Category|Blood Pressure|Heart Rate|Daily Steps|Sleep Disorder|\n",
      "+---------+------+---+--------------------+--------------+----------------+-----------------------+------------+------------+--------------+----------+-----------+--------------+\n",
      "|        1|  Male| 27|   Software Engineer|           6.1|               6|                     42|           6|  Overweight|        126/83|        77|       4200|          None|\n",
      "|        2|  Male| 28|              Doctor|           6.2|               6|                     60|           8|      Normal|        125/80|        75|      10000|          None|\n",
      "|        3|  Male| 28|              Doctor|           6.2|               6|                     60|           8|      Normal|        125/80|        75|      10000|          None|\n",
      "|        4|  Male| 28|Sales Representative|           5.9|               4|                     30|           8|       Obese|        140/90|        85|       3000|   Sleep Apnea|\n",
      "|        5|  Male| 28|Sales Representative|           5.9|               4|                     30|           8|       Obese|        140/90|        85|       3000|   Sleep Apnea|\n",
      "+---------+------+---+--------------------+--------------+----------------+-----------------------+------------+------------+--------------+----------+-----------+--------------+\n",
      "only showing top 5 rows\n",
      "\n"
     ]
    }
   ],
   "source": [
    "# Display up to 5 rows at once\n",
    "df.show(n=5)"
   ]
  },
  {
   "cell_type": "code",
   "execution_count": 28,
   "id": "0d751ca2",
   "metadata": {},
   "outputs": [
    {
     "data": {
      "text/plain": [
       "[Row(Person ID='1', Gender='Male', Age='27', Occupation='Software Engineer', Sleep Duration='6.1', Quality of Sleep='6', Physical Activity Level='42', Stress Level='6', BMI Category='Overweight', Blood Pressure='126/83', Heart Rate='77', Daily Steps='4200', Sleep Disorder='None')]"
      ]
     },
     "execution_count": 28,
     "metadata": {},
     "output_type": "execute_result"
    }
   ],
   "source": [
    "#first row\n",
    "df.head(1)"
   ]
  },
  {
   "cell_type": "code",
   "execution_count": 26,
   "id": "b045a2e3",
   "metadata": {
    "scrolled": true
   },
   "outputs": [
    {
     "data": {
      "text/plain": [
       "['Person ID',\n",
       " 'Gender',\n",
       " 'Age',\n",
       " 'Occupation',\n",
       " 'Sleep Duration',\n",
       " 'Quality of Sleep',\n",
       " 'Physical Activity Level',\n",
       " 'Stress Level',\n",
       " 'BMI Category',\n",
       " 'Blood Pressure',\n",
       " 'Heart Rate',\n",
       " 'Daily Steps',\n",
       " 'Sleep Disorder']"
      ]
     },
     "execution_count": 26,
     "metadata": {},
     "output_type": "execute_result"
    }
   ],
   "source": [
    "#columns details\n",
    "df.columns"
   ]
  },
  {
   "cell_type": "code",
   "execution_count": 24,
   "id": "3fb8241f",
   "metadata": {},
   "outputs": [
    {
     "data": {
      "text/plain": [
       "('Number of columns:', 13)"
      ]
     },
     "execution_count": 24,
     "metadata": {},
     "output_type": "execute_result"
    }
   ],
   "source": [
    "#coutn columns\n",
    "column_count = len(df.columns)\n",
    "\"Number of columns:\", column_count"
   ]
  },
  {
   "cell_type": "code",
   "execution_count": 18,
   "id": "2794e520",
   "metadata": {},
   "outputs": [
    {
     "data": {
      "text/plain": [
       "('Number of rows:', 375)"
      ]
     },
     "execution_count": 18,
     "metadata": {},
     "output_type": "execute_result"
    }
   ],
   "source": [
    "#count rows\n",
    "row_count = df.count()\n",
    "\"Number of rows:\", row_count"
   ]
  },
  {
   "cell_type": "code",
   "execution_count": 19,
   "id": "793b47cf",
   "metadata": {},
   "outputs": [
    {
     "name": "stdout",
     "output_type": "stream",
     "text": [
      "+-------+------------------+------+-----------------+----------+------------------+------------------+-----------------------+------------------+------------+--------------+-----------------+------------------+--------------+\n",
      "|summary|         Person ID|Gender|              Age|Occupation|    Sleep Duration|  Quality of Sleep|Physical Activity Level|      Stress Level|BMI Category|Blood Pressure|       Heart Rate|       Daily Steps|Sleep Disorder|\n",
      "+-------+------------------+------+-----------------+----------+------------------+------------------+-----------------------+------------------+------------+--------------+-----------------+------------------+--------------+\n",
      "|  count|               375|   375|              375|       375|               375|               375|                    375|               375|         375|           374|              374|               374|           375|\n",
      "|   mean|             188.0|  null|           42.136|      null| 7.134933333333324| 7.314666666666667|      59.22666666666667| 5.381333333333333|        null|          null|70.16577540106952| 6816.844919786096|          null|\n",
      "| stddev|108.39741694339399|  null|8.712285259247578|      null|0.7965036789098551|1.1958812262546714|      20.83072425730269|1.7735951986568852|        null|          null|4.135675535112212|1617.9156791336366|          null|\n",
      "|    min|                 1|Female|               24|Accountant|               5.8|                 4|                     30|                 3|      Normal|        115/75|               65|             10000|      Insomnia|\n",
      "|    max|                99|  Male|               59|   Teacher|               8.5|                 9|                     90|                 8|  Overweight|        142/92|               86|              8000|   Sleep Apnea|\n",
      "+-------+------------------+------+-----------------+----------+------------------+------------------+-----------------------+------------------+------------+--------------+-----------------+------------------+--------------+\n",
      "\n"
     ]
    }
   ],
   "source": [
    "#general statistics\n",
    "df.describe().show()"
   ]
  },
  {
   "cell_type": "code",
   "execution_count": 48,
   "id": "ecc6aee7",
   "metadata": {},
   "outputs": [
    {
     "name": "stdout",
     "output_type": "stream",
     "text": [
      "+-------+------------------+------+-----------------+----------+------------------+------------------+\n",
      "|summary|         Person ID|Gender|              Age|Occupation|    Sleep Duration|  Quality of Sleep|\n",
      "+-------+------------------+------+-----------------+----------+------------------+------------------+\n",
      "|  count|               375|   375|              375|       375|               375|               375|\n",
      "|   mean|             188.0|  null|           42.136|      null| 7.134933333333324| 7.314666666666667|\n",
      "| stddev|108.39741694339399|  null|8.712285259247578|      null|0.7965036789098551|1.1958812262546714|\n",
      "|    min|                 1|Female|               24|Accountant|               5.8|                 4|\n",
      "|    max|                99|  Male|               59|   Teacher|               8.5|                 9|\n",
      "+-------+------------------+------+-----------------+----------+------------------+------------------+\n",
      "\n",
      "+-------+-----------------------+------------------+------------+--------------+\n",
      "|summary|Physical Activity Level|      Stress Level|BMI Category|Blood Pressure|\n",
      "+-------+-----------------------+------------------+------------+--------------+\n",
      "|  count|                    375|               375|         375|           374|\n",
      "|   mean|      59.22666666666667| 5.381333333333333|        null|          null|\n",
      "| stddev|      20.83072425730269|1.7735951986568852|        null|          null|\n",
      "|    min|                     30|                 3|      Normal|        115/75|\n",
      "|    max|                     90|                 8|  Overweight|        142/92|\n",
      "+-------+-----------------------+------------------+------------+--------------+\n",
      "\n",
      "+-------+-----------------+------------------+--------------+\n",
      "|summary|       Heart Rate|       Daily Steps|Sleep Disorder|\n",
      "+-------+-----------------+------------------+--------------+\n",
      "|  count|              374|               374|           375|\n",
      "|   mean|70.16577540106952| 6816.844919786096|          null|\n",
      "| stddev|4.135675535112212|1617.9156791336366|          null|\n",
      "|    min|               65|             10000|      Insomnia|\n",
      "|    max|               86|              8000|   Sleep Apnea|\n",
      "+-------+-----------------+------------------+--------------+\n",
      "\n"
     ]
    }
   ],
   "source": [
    "# Select the first 6 columns by index\n",
    "selected_columns = df.columns[:6]  \n",
    "\n",
    "# Create a new DataFrame with the selected columns\n",
    "selected_df = df.select(selected_columns)\n",
    "\n",
    "# Calculate and display summary statistics for the selected columns\n",
    "selected_describe = selected_df.describe()\n",
    "selected_describe.show()\n",
    "\n",
    "# Select and create 6-10 columns by index\n",
    "selected_columns2 = df.columns[6:10]  \n",
    "selected_df2 = df.select(selected_columns2)\n",
    "\n",
    "# display\n",
    "selected_df2.describe().show()\n",
    "\n",
    "# Select and create remainingn columns\n",
    "selected_columns3 = df.columns[10:]  \n",
    "selected_df3 = df.select(selected_columns3)\n",
    "\n",
    "# display\n",
    "selected_df3.describe().show()"
   ]
  },
  {
   "cell_type": "code",
   "execution_count": 14,
   "id": "e96b1a44",
   "metadata": {},
   "outputs": [
    {
     "name": "stdout",
     "output_type": "stream",
     "text": [
      "root\n",
      " |-- Person ID: string (nullable = true)\n",
      " |-- Gender: string (nullable = true)\n",
      " |-- Age: string (nullable = true)\n",
      " |-- Occupation: string (nullable = true)\n",
      " |-- Sleep Duration: string (nullable = true)\n",
      " |-- Quality of Sleep: string (nullable = true)\n",
      " |-- Physical Activity Level: string (nullable = true)\n",
      " |-- Stress Level: string (nullable = true)\n",
      " |-- BMI Category: string (nullable = true)\n",
      " |-- Blood Pressure: string (nullable = true)\n",
      " |-- Heart Rate: string (nullable = true)\n",
      " |-- Daily Steps: string (nullable = true)\n",
      " |-- Sleep Disorder: string (nullable = true)\n",
      "\n"
     ]
    }
   ],
   "source": [
    "df.printSchema()"
   ]
  },
  {
   "cell_type": "code",
   "execution_count": null,
   "id": "05d724f4",
   "metadata": {},
   "outputs": [],
   "source": [
    "#"
   ]
  }
 ],
 "metadata": {
  "kernelspec": {
   "display_name": "Python 3 (ipykernel)",
   "language": "python",
   "name": "python3"
  },
  "language_info": {
   "codemirror_mode": {
    "name": "ipython",
    "version": 3
   },
   "file_extension": ".py",
   "mimetype": "text/x-python",
   "name": "python",
   "nbconvert_exporter": "python",
   "pygments_lexer": "ipython3",
   "version": "3.10.4"
  }
 },
 "nbformat": 4,
 "nbformat_minor": 5
}
